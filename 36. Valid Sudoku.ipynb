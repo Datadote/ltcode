{
 "cells": [
  {
   "cell_type": "code",
   "execution_count": null,
   "id": "12cac076",
   "metadata": {},
   "outputs": [],
   "source": [
    "class Solution:\n",
    "    def isValidSudoku(self, board: List[List[str]]) -> bool:\n",
    "\n",
    "        # 1) Check each row\n",
    "        # 2) Check each column\n",
    "        # 3) Check each 3x3\n",
    "        # What if a row is all \".\"?\n",
    "        \n",
    "        # for row in board:\n",
    "        #     print(row, end='\\n')\n",
    "            \n",
    "        def check_good(row):\n",
    "            row = [c for c in row if c != \".\"]\n",
    "            return len(row) == len(set(row))\n",
    "        \n",
    "        # Check rows\n",
    "        for row in board:\n",
    "            if not check_good(row):\n",
    "                return False\n",
    "        \n",
    "        # Check columns\n",
    "        for i in range(len(board[0])): # For each column index\n",
    "            col = [row[i] for row in board] # Create column\n",
    "            if not check_good(col):\n",
    "                return False\n",
    "        \n",
    "        # Check 3x3s\n",
    "        for i in range(3):\n",
    "            for j in range(3):\n",
    "                r1 = board[i*3][j*3:j*3+3]\n",
    "                r2 = board[i*3+1][j*3:j*3+3]\n",
    "                r3 = board[i*3+2][j*3:j*3+3]\n",
    "                # print(r1+r2+r3)\n",
    "                if not check_good(r1+r2+r3):\n",
    "                    return False\n",
    "        return True"
   ]
  }
 ],
 "metadata": {
  "kernelspec": {
   "display_name": "Python 3 (ipykernel)",
   "language": "python",
   "name": "python3"
  },
  "language_info": {
   "codemirror_mode": {
    "name": "ipython",
    "version": 3
   },
   "file_extension": ".py",
   "mimetype": "text/x-python",
   "name": "python",
   "nbconvert_exporter": "python",
   "pygments_lexer": "ipython3",
   "version": "3.8.11"
  }
 },
 "nbformat": 4,
 "nbformat_minor": 5
}
