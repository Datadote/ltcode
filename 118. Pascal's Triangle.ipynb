{
 "cells": [
  {
   "cell_type": "code",
   "execution_count": null,
   "id": "a7ccab25",
   "metadata": {},
   "outputs": [],
   "source": [
    "# Recursive solution. Create a recursive pascal function and append to top level ll\n",
    "class Solution:\n",
    "    def generate(self, numRows: int) -> List[List[int]]:\n",
    "        # Try using recursion\n",
    "        # Base case, and then recursive call\n",
    "        \n",
    "        ll = []\n",
    "        \n",
    "        def pascal(numRows):\n",
    "            # print(f'Start {numRows}')\n",
    "            l = []\n",
    "            if numRows==1:\n",
    "                l.append(1)\n",
    "            else:\n",
    "                last_line = pascal(numRows-1)\n",
    "                # print(f\"return {numRows} - {last_line} - {ll}\")\n",
    "                l.append(1)\n",
    "                for i in range(numRows-2):\n",
    "                    num = last_line[i]+last_line[i+1]\n",
    "                    l.append(num)\n",
    "                l.append(1)\n",
    "            ll.append(l)\n",
    "            return(l)\n",
    "            \n",
    "        pascal(numRows)\n",
    "        return ll"
   ]
  },
  {
   "cell_type": "code",
   "execution_count": null,
   "id": "a8bbfac2",
   "metadata": {},
   "outputs": [],
   "source": [
    "# Iterative solution\n",
    "class Solution:\n",
    "    def generate(self, numRows: int) -> List[List[int]]:\n",
    "        l = [[1]]\n",
    "        \n",
    "        for i in range(1,numRows+1):\n",
    "            l_temp = [1]\n",
    "            # subtract 1 for sides\n",
    "            for j in range(1, i-1):\n",
    "                # print(i, j)\n",
    "                # to get new num, add 2 numbers from row-1 and col-1, col\n",
    "                values = l[i-1][j-1:j+1] # two elements, python list index is exclusive\n",
    "                l_temp.append(sum(values))\n",
    "            l_temp.append(1)\n",
    "            l.append(l_temp)\n",
    "            # print(l)\n",
    "        del l[1]\n",
    "        return l"
   ]
  }
 ],
 "metadata": {
  "kernelspec": {
   "display_name": "Python 3 (ipykernel)",
   "language": "python",
   "name": "python3"
  },
  "language_info": {
   "codemirror_mode": {
    "name": "ipython",
    "version": 3
   },
   "file_extension": ".py",
   "mimetype": "text/x-python",
   "name": "python",
   "nbconvert_exporter": "python",
   "pygments_lexer": "ipython3",
   "version": "3.8.11"
  }
 },
 "nbformat": 4,
 "nbformat_minor": 5
}
