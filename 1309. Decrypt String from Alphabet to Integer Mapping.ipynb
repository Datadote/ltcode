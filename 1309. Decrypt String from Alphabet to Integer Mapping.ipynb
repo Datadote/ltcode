{
 "cells": [
  {
   "cell_type": "code",
   "execution_count": null,
   "id": "bbbab23c",
   "metadata": {},
   "outputs": [],
   "source": [
    "class Solution:\n",
    "    def freqAlphabets(self, s: str) -> str:\n",
    "        letters = ['a', 'b', 'c', 'd', 'e', 'f', 'g', 'h', 'i']\n",
    "        d1 = {str(ord(c)-96): c for c in letters}\n",
    "        d2 = {str(i-96)+'#': chr(i) for i in range(106,123)}\n",
    "        d = {**d1, **d2}\n",
    "        \n",
    "        # Process in characters of 3, if last char is #, then do full str, otherwise don't\n",
    "        \n",
    "        l = []\n",
    "        i = 0\n",
    "        while i < len(s):\n",
    "            substring = s[i:i+3]\n",
    "            if substring[-1] == '#':\n",
    "                l.append(d[substring])\n",
    "                i += 3\n",
    "            else:\n",
    "                l.append(d[s[i]])\n",
    "                i += 1\n",
    "                    \n",
    "        return ''.join(l)"
   ]
  }
 ],
 "metadata": {
  "kernelspec": {
   "display_name": "Python 3 (ipykernel)",
   "language": "python",
   "name": "python3"
  },
  "language_info": {
   "codemirror_mode": {
    "name": "ipython",
    "version": 3
   },
   "file_extension": ".py",
   "mimetype": "text/x-python",
   "name": "python",
   "nbconvert_exporter": "python",
   "pygments_lexer": "ipython3",
   "version": "3.8.11"
  }
 },
 "nbformat": 4,
 "nbformat_minor": 5
}
