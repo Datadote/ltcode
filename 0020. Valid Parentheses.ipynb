{
 "cells": [
  {
   "cell_type": "code",
   "execution_count": null,
   "id": "b9c153fb",
   "metadata": {},
   "outputs": [],
   "source": [
    "# Do a heap with a list, once right bracket encountered, start popping off and comparing"
   ]
  },
  {
   "cell_type": "code",
   "execution_count": 17,
   "id": "79218250",
   "metadata": {},
   "outputs": [],
   "source": [
    "def isValid(s):\n",
    "    l = []\n",
    "    right_brackets = (')', ']', '}')\n",
    "    d_check = {'(': ')', '[': ']', '{': '}'}\n",
    "    if len(s) == 1:\n",
    "        return False   \n",
    "\n",
    "    for c in s:\n",
    "        if c not in right_brackets:\n",
    "            l.append(c)\n",
    "        else:\n",
    "            try:\n",
    "                if c != d_check[l.pop()]:\n",
    "                    return False\n",
    "            except:\n",
    "                return False\n",
    "\n",
    "    if len(l) != 0:\n",
    "        return False        \n",
    "    return True"
   ]
  }
 ],
 "metadata": {
  "kernelspec": {
   "display_name": "Python 3 (ipykernel)",
   "language": "python",
   "name": "python3"
  },
  "language_info": {
   "codemirror_mode": {
    "name": "ipython",
    "version": 3
   },
   "file_extension": ".py",
   "mimetype": "text/x-python",
   "name": "python",
   "nbconvert_exporter": "python",
   "pygments_lexer": "ipython3",
   "version": "3.8.11"
  }
 },
 "nbformat": 4,
 "nbformat_minor": 5
}
