{
 "cells": [
  {
   "cell_type": "code",
   "execution_count": null,
   "id": "fa5d3754",
   "metadata": {},
   "outputs": [],
   "source": [
    "class Solution:\n",
    "    def interpret(self, command: str) -> str:\n",
    "        # Find any (), replace with o\n",
    "        # Remove all () after\n",
    "        \n",
    "        # Iterate through, keep a running str, if () or (al) reached,\n",
    "        # replace and start counter again\n",
    "        \n",
    "        l = []\n",
    "        s = ''\n",
    "        for c in command:\n",
    "            if c == 'G':\n",
    "                l.append('G')\n",
    "            else:\n",
    "                s = s + c\n",
    "                if s == '()':\n",
    "                    l.append('o')\n",
    "                    s = ''\n",
    "                if s == '(al)':\n",
    "                    l.append('al')\n",
    "                    s = ''\n",
    "        return ''.join(l)"
   ]
  }
 ],
 "metadata": {
  "kernelspec": {
   "display_name": "Python 3 (ipykernel)",
   "language": "python",
   "name": "python3"
  },
  "language_info": {
   "codemirror_mode": {
    "name": "ipython",
    "version": 3
   },
   "file_extension": ".py",
   "mimetype": "text/x-python",
   "name": "python",
   "nbconvert_exporter": "python",
   "pygments_lexer": "ipython3",
   "version": "3.8.11"
  }
 },
 "nbformat": 4,
 "nbformat_minor": 5
}
