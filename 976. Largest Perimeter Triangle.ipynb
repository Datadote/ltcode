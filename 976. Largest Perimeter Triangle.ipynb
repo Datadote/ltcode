{
 "cells": [
  {
   "cell_type": "code",
   "execution_count": null,
   "id": "e9f4333f",
   "metadata": {},
   "outputs": [],
   "source": [
    "class Solution:\n",
    "    def largestPerimeter(self, nums: List[int]) -> int:\n",
    "#     # 3 sides, A B C\n",
    "#         # Longest side A needs to be less than B + C, if not return 0\n",
    "#         # Get two largest numbers, and then find the next largest number that is the < sum\n",
    "        \n",
    "        nums2 = sorted(nums, reverse=True)\n",
    "        # print(nums2)\n",
    "        \n",
    "        for i in range(len(nums2)-1):\n",
    "            a, b = nums2[i], nums2[i+1]\n",
    "            for c in nums2[i+2:]:\n",
    "                if a < b + c:\n",
    "                    return a+b+c\n",
    "                # print(a,b,c)\n",
    "        return 0"
   ]
  }
 ],
 "metadata": {
  "kernelspec": {
   "display_name": "Python 3 (ipykernel)",
   "language": "python",
   "name": "python3"
  },
  "language_info": {
   "codemirror_mode": {
    "name": "ipython",
    "version": 3
   },
   "file_extension": ".py",
   "mimetype": "text/x-python",
   "name": "python",
   "nbconvert_exporter": "python",
   "pygments_lexer": "ipython3",
   "version": "3.8.11"
  }
 },
 "nbformat": 4,
 "nbformat_minor": 5
}
