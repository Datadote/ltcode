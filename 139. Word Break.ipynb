{
 "cells": [
  {
   "cell_type": "code",
   "execution_count": null,
   "id": "6bb81187",
   "metadata": {},
   "outputs": [],
   "source": [
    "class Solution:\n",
    "    def wordBreak(self, s: str, wordDict: List[str]) -> bool:\n",
    "        # -DP Start backwards with all false list, with + basecase true\n",
    "        # -for every index, for every word in wordDict,\n",
    "        # -check if index+len(w) is smaller than string and that the \n",
    "        #  current string matches the word\n",
    "        # -If true, set dp[i] = dp[i+len(w)], which means we can get to \n",
    "        #  that section (we work from high index down)\n",
    "        # -If dp[i] is already true, then break\n",
    "        # -return dp[0]\n",
    "\n",
    "        dp = [False] * (len(s)+1)\n",
    "        dp[len(s)] = True # basecase is true\n",
    "\n",
    "        for i in range(len(s)-1, -1, -1): # last index down to 0, -1 increment\n",
    "            for w in wordDict:\n",
    "                if (i+len(w) <= len(s)) and (s[i:i+len(w)] == w):\n",
    "                    dp[i] = dp[i+len(w)] # try to understand why this is done\n",
    "                    # for 'aaaaaaa' backtracking to aaa or aaaa both are true\n",
    "                    # dp = [True, True, False, True, True, False, False, True]\n",
    "                if dp[i]:\n",
    "                    break\n",
    "        # print(dp)\n",
    "        return dp[0]"
   ]
  }
 ],
 "metadata": {
  "kernelspec": {
   "display_name": "Python 3 (ipykernel)",
   "language": "python",
   "name": "python3"
  },
  "language_info": {
   "codemirror_mode": {
    "name": "ipython",
    "version": 3
   },
   "file_extension": ".py",
   "mimetype": "text/x-python",
   "name": "python",
   "nbconvert_exporter": "python",
   "pygments_lexer": "ipython3",
   "version": "3.8.11"
  }
 },
 "nbformat": 4,
 "nbformat_minor": 5
}
