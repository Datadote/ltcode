{
 "cells": [
  {
   "cell_type": "code",
   "execution_count": null,
   "id": "c6d8226d",
   "metadata": {},
   "outputs": [],
   "source": [
    "\"\"\"\n",
    "Works, but there are probably faster implementations\n",
    "\"\"\""
   ]
  },
  {
   "cell_type": "code",
   "execution_count": null,
   "id": "fe1eb197",
   "metadata": {},
   "outputs": [],
   "source": [
    "class Solution:\n",
    "    def searchMatrix(self, matrix: List[List[int]], target: int) -> bool:\n",
    "        \"\"\"\n",
    "        1) Find row where target value is in\n",
    "        2) Depending on if closer to next row or current row value, start from top or bottom\n",
    "        \"\"\"\n",
    "        for i, r in enumerate(matrix):\n",
    "            # Find row\n",
    "            if r[0] > target:\n",
    "                row = matrix[i-1]\n",
    "                break;\n",
    "            else:\n",
    "                row = matrix[i]\n",
    "            \n",
    "        if target in row:\n",
    "            return True\n",
    "        return False"
   ]
  }
 ],
 "metadata": {
  "kernelspec": {
   "display_name": "Python 3 (ipykernel)",
   "language": "python",
   "name": "python3"
  },
  "language_info": {
   "codemirror_mode": {
    "name": "ipython",
    "version": 3
   },
   "file_extension": ".py",
   "mimetype": "text/x-python",
   "name": "python",
   "nbconvert_exporter": "python",
   "pygments_lexer": "ipython3",
   "version": "3.8.11"
  }
 },
 "nbformat": 4,
 "nbformat_minor": 5
}
