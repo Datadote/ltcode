{
 "cells": [
  {
   "cell_type": "code",
   "execution_count": null,
   "id": "8321b4dc",
   "metadata": {},
   "outputs": [],
   "source": [
    "class Solution:\n",
    "    def maxScoreSightseeingPair(self, values: List[int]) -> int:\n",
    "        res, cur = 0, 0\n",
    "        for v in values:\n",
    "            # Finds highest value even with degradation\n",
    "            # Previous high values need to subtract 1 due to distance\n",
    "            res = max(res, cur+v)\n",
    "            cur = max(cur, v) - 1 \n",
    "            # print(cur)\n",
    "        return res\n",
    "\n",
    "        # # V1 probably works, but too slow\n",
    "        # maxV = 0\n",
    "        # for i in range(len(values)):\n",
    "        #     for j in range(i+1, len(values)):\n",
    "        #             value = values[i]+values[j]+i-j\n",
    "        #             if value > maxV:\n",
    "        #                 maxV = value\n",
    "        # return maxV"
   ]
  }
 ],
 "metadata": {
  "kernelspec": {
   "display_name": "Python 3 (ipykernel)",
   "language": "python",
   "name": "python3"
  },
  "language_info": {
   "codemirror_mode": {
    "name": "ipython",
    "version": 3
   },
   "file_extension": ".py",
   "mimetype": "text/x-python",
   "name": "python",
   "nbconvert_exporter": "python",
   "pygments_lexer": "ipython3",
   "version": "3.8.11"
  }
 },
 "nbformat": 4,
 "nbformat_minor": 5
}
