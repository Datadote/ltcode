{
 "cells": [
  {
   "cell_type": "code",
   "execution_count": null,
   "id": "00570270",
   "metadata": {},
   "outputs": [],
   "source": [
    "class Solution:\n",
    "    def moveZeroes(self, nums: List[int]) -> None:\n",
    "        \"\"\"\n",
    "        Do not return anything, modify nums in-place instead.\n",
    "        \"\"\"\n",
    "        \n",
    "        # Make temporary variables store stuff, and index pointers\n",
    "        # How to stop at end? Just for loop it\n",
    "        j = 0\n",
    "        for i in range(len(nums)):\n",
    "            # print(i, j, nums)\n",
    "            if nums[j] == 0:\n",
    "                nums[j:-1] = nums[j+1:] # Shifts array down one\n",
    "                nums[-1] = 0\n",
    "            else:\n",
    "                j += 1"
   ]
  }
 ],
 "metadata": {
  "kernelspec": {
   "display_name": "Python 3 (ipykernel)",
   "language": "python",
   "name": "python3"
  },
  "language_info": {
   "codemirror_mode": {
    "name": "ipython",
    "version": 3
   },
   "file_extension": ".py",
   "mimetype": "text/x-python",
   "name": "python",
   "nbconvert_exporter": "python",
   "pygments_lexer": "ipython3",
   "version": "3.8.11"
  }
 },
 "nbformat": 4,
 "nbformat_minor": 5
}
