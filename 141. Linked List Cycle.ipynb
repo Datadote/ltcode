{
 "cells": [
  {
   "cell_type": "code",
   "execution_count": null,
   "id": "7e4fc5a3",
   "metadata": {},
   "outputs": [],
   "source": [
    "# Definition for singly-linked list.\n",
    "# class ListNode:\n",
    "#     def __init__(self, x):\n",
    "#         self.val = x\n",
    "#         self.next = None\n",
    "\n",
    "class Solution:\n",
    "    def hasCycle(self, head: Optional[ListNode]) -> bool:\n",
    "        \n",
    "        # V2 works, ~10-20x faster. Changed list to a dictionary\n",
    "        # V1 WORKS, visited = [] => VERY SLOW - Redo\n",
    "        # Make a list of visited nodes? If node.next is in visited, a cycle exists\n",
    "        # If a cycle exists, return True, else return False\n",
    "        \n",
    "        visited = {}\n",
    "        while head:\n",
    "            if head in visited:\n",
    "                return True\n",
    "            visited[head] = None\n",
    "            head = head.next\n",
    "        return False"
   ]
  }
 ],
 "metadata": {
  "kernelspec": {
   "display_name": "Python 3 (ipykernel)",
   "language": "python",
   "name": "python3"
  },
  "language_info": {
   "codemirror_mode": {
    "name": "ipython",
    "version": 3
   },
   "file_extension": ".py",
   "mimetype": "text/x-python",
   "name": "python",
   "nbconvert_exporter": "python",
   "pygments_lexer": "ipython3",
   "version": "3.8.11"
  }
 },
 "nbformat": 4,
 "nbformat_minor": 5
}
