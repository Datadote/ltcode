{
 "cells": [
  {
   "cell_type": "code",
   "execution_count": null,
   "id": "797407aa",
   "metadata": {},
   "outputs": [],
   "source": [
    "class Solution:\n",
    "    def deleteAndEarn(self, nums: List[int]) -> int:\n",
    "        # If we sort, it's like house robber problem because you can't\n",
    "        # steal from adjacent houses\n",
    "        # Count nums in array\n",
    "        # Get a sorted set\n",
    "        # If number is next to each other, then perform house robbing!! >:]\n",
    "\n",
    "        d = {}\n",
    "        for n in nums:\n",
    "            d[n] = d.get(n, 0)+1\n",
    "        l = sorted(set(nums))\n",
    "  \n",
    "        earn1, earn2 = 0, 0\n",
    "        for i in range(len(l)):\n",
    "            curValue = l[i]*d[l[i]]\n",
    "            # If values adjcant, can only add onto earn1\n",
    "            # else, add onto earn2\n",
    "            if i>0 and l[i]-1 == l[i-1]: \n",
    "                earn1, earn2 = earn2, max(earn2, curValue+earn1)\n",
    "            else:\n",
    "                earn1, earn2 = earn2, earn2+curValue\n",
    "        return earn2"
   ]
  }
 ],
 "metadata": {
  "kernelspec": {
   "display_name": "Python 3 (ipykernel)",
   "language": "python",
   "name": "python3"
  },
  "language_info": {
   "codemirror_mode": {
    "name": "ipython",
    "version": 3
   },
   "file_extension": ".py",
   "mimetype": "text/x-python",
   "name": "python",
   "nbconvert_exporter": "python",
   "pygments_lexer": "ipython3",
   "version": "3.8.11"
  }
 },
 "nbformat": 4,
 "nbformat_minor": 5
}
