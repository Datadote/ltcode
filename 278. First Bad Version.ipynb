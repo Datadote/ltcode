{
 "cells": [
  {
   "cell_type": "code",
   "execution_count": null,
   "id": "3cf07947",
   "metadata": {},
   "outputs": [],
   "source": [
    "# The isBadVersion API is already defined for you.\n",
    "# def isBadVersion(version: int) -> bool:\n",
    "\n",
    "class Solution:\n",
    "    def firstBadVersion(self, n: int) -> int:\n",
    "        # binary search this\n",
    "        # returns index ofr first bad version\n",
    "        left, right = 1, n-1\n",
    "        while left <= right:\n",
    "            mid = (left+right)//2\n",
    "            # print('mid', mid)\n",
    "            if isBadVersion(mid):\n",
    "                right = mid-1\n",
    "            else:\n",
    "                left = mid+1\n",
    "        return left"
   ]
  }
 ],
 "metadata": {
  "kernelspec": {
   "display_name": "Python 3 (ipykernel)",
   "language": "python",
   "name": "python3"
  },
  "language_info": {
   "codemirror_mode": {
    "name": "ipython",
    "version": 3
   },
   "file_extension": ".py",
   "mimetype": "text/x-python",
   "name": "python",
   "nbconvert_exporter": "python",
   "pygments_lexer": "ipython3",
   "version": "3.8.11"
  }
 },
 "nbformat": 4,
 "nbformat_minor": 5
}
