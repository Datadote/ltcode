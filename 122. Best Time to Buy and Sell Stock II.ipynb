{
 "cells": [
  {
   "cell_type": "code",
   "execution_count": null,
   "id": "1a6e9718",
   "metadata": {},
   "outputs": [],
   "source": [
    "class Solution:\n",
    "    def maxProfit(self, prices: List[int]) -> int:\n",
    "        # Go through one time\n",
    "        # Don't need inflection points, just sum up pos slopes\n",
    "        # [1, 3, 1 3], [1, 3, 2, 5]\n",
    "        maxProfit = 0\n",
    "        for i in range(1,len(prices)):\n",
    "            if prices[i] > prices[i-1]:\n",
    "                maxProfit += prices[i]-prices[i-1]\n",
    "        return maxProfit"
   ]
  }
 ],
 "metadata": {
  "kernelspec": {
   "display_name": "Python 3 (ipykernel)",
   "language": "python",
   "name": "python3"
  },
  "language_info": {
   "codemirror_mode": {
    "name": "ipython",
    "version": 3
   },
   "file_extension": ".py",
   "mimetype": "text/x-python",
   "name": "python",
   "nbconvert_exporter": "python",
   "pygments_lexer": "ipython3",
   "version": "3.8.11"
  }
 },
 "nbformat": 4,
 "nbformat_minor": 5
}
