{
 "cells": [
  {
   "cell_type": "code",
   "execution_count": null,
   "id": "c02da802",
   "metadata": {},
   "outputs": [],
   "source": [
    "class Solution:\n",
    "    def getMaxLen(self, nums: List[int]) -> int:\n",
    "        # Iterate once from front, keep running max length\n",
    "        # Negative values should be taken into account\n",
    "        # Probably similar to kadane, keep max and running count\n",
    "\n",
    "        maxLen, pos, neg = 0, 0, 0\n",
    "        for n in nums:\n",
    "            if n > 0:\n",
    "                pos = pos + 1\n",
    "                neg = (neg + 1) if neg else 0\n",
    "            elif n < 0:\n",
    "                pos, neg = (1 + neg) if neg else 0, 1 + pos\n",
    "            else:\n",
    "                pos, neg = 0, 0\n",
    "            # print(n, pos, neg)\n",
    "            maxLen = max(maxLen, pos)\n",
    "        return maxLen\n",
    "\n",
    "        # # V1 Spelled out version\n",
    "        # maxLen, pos, neg = 0, 0, 0\n",
    "        # from copy import copy\n",
    "        # for n in nums:\n",
    "        #     if n > 0:\n",
    "        #         pos = pos + 1\n",
    "        #         neg = (neg + 1) if neg else 0\n",
    "        #     elif n < 0:\n",
    "        #         # pos, neg = (1 + neg) if neg else 0, 1 + pos\n",
    "        #         tempPos = copy(pos)\n",
    "        #         if neg > 0:\n",
    "        #             pos = neg + 1\n",
    "        #         else:\n",
    "        #             pos = 0\n",
    "        #         neg = tempPos + 1\n",
    "        #     else:\n",
    "        #         pos, neg = 0, 0\n",
    "        #     print(n, pos, neg)\n",
    "        #     maxLen = max(maxLen, pos)\n",
    "        # return maxLen\n"
   ]
  }
 ],
 "metadata": {
  "kernelspec": {
   "display_name": "Python 3 (ipykernel)",
   "language": "python",
   "name": "python3"
  },
  "language_info": {
   "codemirror_mode": {
    "name": "ipython",
    "version": 3
   },
   "file_extension": ".py",
   "mimetype": "text/x-python",
   "name": "python",
   "nbconvert_exporter": "python",
   "pygments_lexer": "ipython3",
   "version": "3.8.11"
  }
 },
 "nbformat": 4,
 "nbformat_minor": 5
}
