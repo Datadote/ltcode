{
 "cells": [
  {
   "cell_type": "code",
   "execution_count": null,
   "id": "a15a8ebb",
   "metadata": {},
   "outputs": [],
   "source": [
    "class Solution:\n",
    "    # V3\n",
    "    def containsDuplicate(self, nums: List[int]) -> bool:\n",
    "    # Could do counter with dictionary\n",
    "    # Could try to use set?\n",
    "    l = sorted(nums)\n",
    "    for i in range(len(l)-1):\n",
    "        if l[i] == l[i+1]:\n",
    "            return True\n",
    "    return False\n",
    "    \n",
    "    \n",
    "    # V2\n",
    "    def containsDuplicate(self, nums: List[int]) -> bool:\n",
    "        return len(nums) != len(set(nums))\n",
    "    \n",
    "    # V1\n",
    "        # d = dict()\n",
    "        # for n in nums:\n",
    "        #     if n in d:\n",
    "        #         return True\n",
    "        #     else:\n",
    "        #         d[n] = 1\n",
    "        # return False"
   ]
  }
 ],
 "metadata": {
  "kernelspec": {
   "display_name": "Python 3 (ipykernel)",
   "language": "python",
   "name": "python3"
  },
  "language_info": {
   "codemirror_mode": {
    "name": "ipython",
    "version": 3
   },
   "file_extension": ".py",
   "mimetype": "text/x-python",
   "name": "python",
   "nbconvert_exporter": "python",
   "pygments_lexer": "ipython3",
   "version": "3.8.11"
  }
 },
 "nbformat": 4,
 "nbformat_minor": 5
}
