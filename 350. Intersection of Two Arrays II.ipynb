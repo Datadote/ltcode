{
 "cells": [
  {
   "cell_type": "code",
   "execution_count": null,
   "id": "f9be1d67",
   "metadata": {},
   "outputs": [],
   "source": [
    "class Solution:\n",
    "    def intersect(self, nums1: List[int], nums2: List[int]) -> List[int]:\n",
    "        # Could make counters for both. Iterating? Set would get us all the keys\n",
    "        d1, d2 = {}, {}\n",
    "        for num in nums1:\n",
    "            d1[num] = d1.get(num,0) + 1\n",
    "        for num in nums2:\n",
    "            d2[num] = d2.get(num,0) + 1\n",
    "        \n",
    "        l = []\n",
    "        for k in d1.keys():\n",
    "            if k in d2:\n",
    "                l = l + [k]*min(d1[k], d2[k])\n",
    "        return l\n",
    "        \n",
    "#         # V1\n",
    "#         # Need same elements, and count as well -> use dictionary\n",
    "#         # Find intersection of keys, and then compare values and print out lowest sum\n",
    "#         d1, d2 = {}, {}\n",
    "        \n",
    "#         for num in nums1:\n",
    "#             d1[num] = d1.get(num,0)+1\n",
    "#         for num in nums2:\n",
    "#             d2[num] = d2.get(num,0)+1\n",
    "#         keys = d1.keys() & d2.keys()\n",
    "        \n",
    "#         l = []\n",
    "#         for k in keys:\n",
    "#             if d1[k] > d2[k]:\n",
    "#                 l = l + [k]*d2[k]\n",
    "#             else:\n",
    "#                 l = l + [k]*d1[k]\n",
    "#         return l"
   ]
  }
 ],
 "metadata": {
  "kernelspec": {
   "display_name": "Python 3 (ipykernel)",
   "language": "python",
   "name": "python3"
  },
  "language_info": {
   "codemirror_mode": {
    "name": "ipython",
    "version": 3
   },
   "file_extension": ".py",
   "mimetype": "text/x-python",
   "name": "python",
   "nbconvert_exporter": "python",
   "pygments_lexer": "ipython3",
   "version": "3.8.11"
  }
 },
 "nbformat": 4,
 "nbformat_minor": 5
}
