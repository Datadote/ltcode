{
 "cells": [
  {
   "cell_type": "code",
   "execution_count": null,
   "id": "1f70280d",
   "metadata": {},
   "outputs": [],
   "source": [
    "# Definition for a binary tree node.\n",
    "# class TreeNode:\n",
    "#     def __init__(self, val=0, left=None, right=None):\n",
    "#         self.val = val\n",
    "#         self.left = left\n",
    "#         self.right = right\n",
    "class Solution:\n",
    "    def isValidBST(self, root: Optional[TreeNode]) -> bool:\n",
    "        # doesn't have to be balanced\n",
    "        # Should be left <= root <= right from book\n",
    "        # This problem does not use equality\n",
    "        # Recursively check left and right\n",
    "        # Return false if property not met, otherwise just true\n",
    "        if root:\n",
    "            print(root.val, root.left, root.right)\n",
    "            if root.left and root.left.val >= root.val:\n",
    "                print('left v')\n",
    "                return False\n",
    "            if root.right and root.right.val <= root.val:\n",
    "                print('right v')\n",
    "                return False\n",
    "            self.isValidBST(root.left)\n",
    "            self.isValidBST(root.right)\n",
    "            \n",
    "        return True"
   ]
  }
 ],
 "metadata": {
  "kernelspec": {
   "display_name": "Python 3 (ipykernel)",
   "language": "python",
   "name": "python3"
  },
  "language_info": {
   "codemirror_mode": {
    "name": "ipython",
    "version": 3
   },
   "file_extension": ".py",
   "mimetype": "text/x-python",
   "name": "python",
   "nbconvert_exporter": "python",
   "pygments_lexer": "ipython3",
   "version": "3.8.11"
  }
 },
 "nbformat": 4,
 "nbformat_minor": 5
}
