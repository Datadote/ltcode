{
 "cells": [
  {
   "cell_type": "code",
   "execution_count": null,
   "id": "de2ad11a",
   "metadata": {},
   "outputs": [],
   "source": [
    "# Definition for a binary tree node.\n",
    "# class TreeNode:\n",
    "#     def __init__(self, val=0, left=None, right=None):\n",
    "#         self.val = val\n",
    "#         self.left = left\n",
    "#         self.right = right\n",
    "class Solution:\n",
    "    def isSymmetric(self, root: Optional[TreeNode]) -> bool:\n",
    "        # Could do breadth level search, and just compare elements in mirror\n",
    " \n",
    "        def traverse(root, d, level):\n",
    "            # breadth. Keep track of nulls for symmetry\n",
    "            if root:\n",
    "                d[level] = d.get(level, []) + [root.val]\n",
    "                traverse(root.left, d, level+1)\n",
    "                traverse(root.right, d, level+1)\n",
    "            else:\n",
    "                d[level] = d.get(level, []) + [None]\n",
    "            return d\n",
    "        \n",
    "        d1 = traverse(root, {}, 0)\n",
    "\n",
    "        for k, v in d1.items():\n",
    "            if k != 0:\n",
    "                middle = len(v)//2\n",
    "                if v[:middle] != v[middle:][::-1]:\n",
    "                    return False\n",
    "                \n",
    "        return True"
   ]
  }
 ],
 "metadata": {
  "kernelspec": {
   "display_name": "Python 3 (ipykernel)",
   "language": "python",
   "name": "python3"
  },
  "language_info": {
   "codemirror_mode": {
    "name": "ipython",
    "version": 3
   },
   "file_extension": ".py",
   "mimetype": "text/x-python",
   "name": "python",
   "nbconvert_exporter": "python",
   "pygments_lexer": "ipython3",
   "version": "3.8.11"
  }
 },
 "nbformat": 4,
 "nbformat_minor": 5
}
