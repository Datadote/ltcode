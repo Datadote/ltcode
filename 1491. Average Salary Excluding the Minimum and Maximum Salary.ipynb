{
 "cells": [
  {
   "cell_type": "code",
   "execution_count": null,
   "id": "cd5cce14",
   "metadata": {},
   "outputs": [],
   "source": [
    "class Solution:\n",
    "    def average(self, salary: List[int]) -> float:\n",
    "        i, summ = 0, 0\n",
    "        maxs, mins = salary[0], salary[0]\n",
    "        for num in salary:\n",
    "            i += 1\n",
    "            summ += num\n",
    "            if num > maxs:\n",
    "                maxs = num\n",
    "            elif num < mins:\n",
    "                mins = num\n",
    "        summ = summ - maxs - mins\n",
    "        return summ/(i-2)"
   ]
  }
 ],
 "metadata": {
  "kernelspec": {
   "display_name": "Python 3 (ipykernel)",
   "language": "python",
   "name": "python3"
  },
  "language_info": {
   "codemirror_mode": {
    "name": "ipython",
    "version": 3
   },
   "file_extension": ".py",
   "mimetype": "text/x-python",
   "name": "python",
   "nbconvert_exporter": "python",
   "pygments_lexer": "ipython3",
   "version": "3.8.11"
  }
 },
 "nbformat": 4,
 "nbformat_minor": 5
}
