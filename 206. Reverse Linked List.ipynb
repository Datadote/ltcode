{
 "cells": [
  {
   "cell_type": "code",
   "execution_count": null,
   "id": "3a9e6ee5",
   "metadata": {},
   "outputs": [],
   "source": [
    "# Definition for singly-linked list.\n",
    "# class ListNode:\n",
    "#     def __init__(self, val=0, next=None):\n",
    "#         self.val = val\n",
    "#         self.next = next\n",
    "class Solution:\n",
    "    def reverseList(self, head: Optional[ListNode]) -> Optional[ListNode]:\n",
    "        # Make a stack and unappend?\n",
    "        # you just need to redirect pointers at each level. So keep track\n",
    "        # 1->2->3\n",
    "        # 1<-2<-3->4->5\n",
    "        # prevNode = head\n",
    "        # head = head.next\n",
    "        \n",
    "        prevNode = None\n",
    "        while head:\n",
    "            # print(head.val)\n",
    "            nextNode = head.next # You gotta save the next pointer before changing head.next\n",
    "            head.next = prevNode # Reverse direction of current node pointer to prev node\n",
    "            prevNode = head\n",
    "            \n",
    "            head = nextNode\n",
    "            \n",
    "        head = prevNode\n",
    "        return head\n",
    "\n",
    "#     # V1\n",
    "#     def reverseList(self, head: Optional[ListNode]) -> Optional[ListNode]:\n",
    "#         prevNode = None # create placeholder for prevNode\n",
    "\n",
    "#         while head:\n",
    "#             # 1) save nextNode ref\n",
    "#             # 2) Change current node ref to prevNode\n",
    "#             # 3) Update currentNode to prevNode, and curNode to nextNode\n",
    "#             # print(head.val)\n",
    "#             nextNode = head.next\n",
    "#             head.next = prevNode\n",
    "#             prevNode = head\n",
    "#             head = nextNode\n",
    "            \n",
    "#         return prevNode"
   ]
  }
 ],
 "metadata": {
  "kernelspec": {
   "display_name": "Python 3 (ipykernel)",
   "language": "python",
   "name": "python3"
  },
  "language_info": {
   "codemirror_mode": {
    "name": "ipython",
    "version": 3
   },
   "file_extension": ".py",
   "mimetype": "text/x-python",
   "name": "python",
   "nbconvert_exporter": "python",
   "pygments_lexer": "ipython3",
   "version": "3.8.11"
  }
 },
 "nbformat": 4,
 "nbformat_minor": 5
}
