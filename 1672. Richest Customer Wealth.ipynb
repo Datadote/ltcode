{
 "cells": [
  {
   "cell_type": "code",
   "execution_count": null,
   "id": "7284ae09",
   "metadata": {},
   "outputs": [],
   "source": [
    "class Solution:\n",
    "    def maximumWealth(self, accounts: List[List[int]]) -> int:\n",
    "        # customer x bank (row x cols)\n",
    "        return max((sum(x) for x in accounts))\n",
    "        # return max([sum(x) for x in accounts])\n",
    "        \n",
    "        # Sol. a little slow, although vectorized\n",
    "        # import numpy as np\n",
    "        # accs = np.array(accounts)\n",
    "        # sums = np.sum(accs, axis=1)\n",
    "        # return max(sums)"
   ]
  }
 ],
 "metadata": {
  "kernelspec": {
   "display_name": "Python 3 (ipykernel)",
   "language": "python",
   "name": "python3"
  },
  "language_info": {
   "codemirror_mode": {
    "name": "ipython",
    "version": 3
   },
   "file_extension": ".py",
   "mimetype": "text/x-python",
   "name": "python",
   "nbconvert_exporter": "python",
   "pygments_lexer": "ipython3",
   "version": "3.8.11"
  }
 },
 "nbformat": 4,
 "nbformat_minor": 5
}
