{
 "cells": [
  {
   "cell_type": "code",
   "execution_count": null,
   "id": "0a4072ca",
   "metadata": {},
   "outputs": [],
   "source": [
    "# Definition for a binary tree node.\n",
    "# class TreeNode:\n",
    "#     def __init__(self, val=0, left=None, right=None):\n",
    "#         self.val = val\n",
    "#         self.left = left\n",
    "#         self.right = right\n",
    "class Solution:\n",
    "    def levelOrder(self, root: Optional[TreeNode]) -> List[List[int]]:\n",
    "        # Find height, then print out by level\n",
    "        # Or keep track of level\n",
    "        d = {}\n",
    "        def traverse(root, level):\n",
    "            if root:\n",
    "                d[level] = d.get(level, []) + [root.val]\n",
    "                traverse(root.left, level+1)\n",
    "                traverse(root.right, level+1)\n",
    "            return\n",
    "        traverse(root, 0)\n",
    "        return list(d.values())"
   ]
  }
 ],
 "metadata": {
  "kernelspec": {
   "display_name": "Python 3 (ipykernel)",
   "language": "python",
   "name": "python3"
  },
  "language_info": {
   "codemirror_mode": {
    "name": "ipython",
    "version": 3
   },
   "file_extension": ".py",
   "mimetype": "text/x-python",
   "name": "python",
   "nbconvert_exporter": "python",
   "pygments_lexer": "ipython3",
   "version": "3.8.11"
  }
 },
 "nbformat": 4,
 "nbformat_minor": 5
}
