{
 "cells": [
  {
   "cell_type": "code",
   "execution_count": null,
   "id": "b7d402f1",
   "metadata": {},
   "outputs": [],
   "source": [
    "# Definition for a binary tree node.\n",
    "# class TreeNode:\n",
    "#     def __init__(self, val=0, left=None, right=None):\n",
    "#         self.val = val\n",
    "#         self.left = left\n",
    "#         self.right = right\n",
    "class Solution:\n",
    "    def findTarget(self, root: Optional[TreeNode], k: int) -> bool:\n",
    "        # Grab all values of bst in dict\n",
    "        # Check for difference in dict keys\n",
    "        d = {}\n",
    "        def traverse(root):\n",
    "            if root is None:\n",
    "                return None\n",
    "            else:\n",
    "                d[root.val] = None\n",
    "                traverse(root.left)\n",
    "                traverse(root.right)\n",
    "        traverse(root)\n",
    "        dkeys = list(d.keys())\n",
    "        \n",
    "        # sort numbers and just check difference?\n",
    "        # takes care of 1 element case\n",
    "        for i, v in enumerate(dkeys):\n",
    "            if k-v in dkeys[i+1:]:\n",
    "                return True\n",
    "        return False"
   ]
  }
 ],
 "metadata": {
  "kernelspec": {
   "display_name": "Python 3 (ipykernel)",
   "language": "python",
   "name": "python3"
  },
  "language_info": {
   "codemirror_mode": {
    "name": "ipython",
    "version": 3
   },
   "file_extension": ".py",
   "mimetype": "text/x-python",
   "name": "python",
   "nbconvert_exporter": "python",
   "pygments_lexer": "ipython3",
   "version": "3.8.11"
  }
 },
 "nbformat": 4,
 "nbformat_minor": 5
}
