{
 "cells": [
  {
   "cell_type": "code",
   "execution_count": null,
   "id": "5567b1af",
   "metadata": {},
   "outputs": [],
   "source": [
    "class Solution:\n",
    "    def rob(self, nums: List[int]) -> int:\n",
    "        def maxRob(nums):\n",
    "            rob1, rob2 = 0, 0\n",
    "            for n in nums:\n",
    "                temp = n+rob1\n",
    "                rob1, rob2 = rob2, max(temp, rob2)\n",
    "            return rob2\n",
    "        if len(nums) == 1:\n",
    "            return nums[0]\n",
    "        else:\n",
    "            return max(maxRob(nums[:-1]), maxRob(nums[1:])) "
   ]
  }
 ],
 "metadata": {
  "kernelspec": {
   "display_name": "Python 3 (ipykernel)",
   "language": "python",
   "name": "python3"
  },
  "language_info": {
   "codemirror_mode": {
    "name": "ipython",
    "version": 3
   },
   "file_extension": ".py",
   "mimetype": "text/x-python",
   "name": "python",
   "nbconvert_exporter": "python",
   "pygments_lexer": "ipython3",
   "version": "3.8.11"
  }
 },
 "nbformat": 4,
 "nbformat_minor": 5
}
