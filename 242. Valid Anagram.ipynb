{
 "cells": [
  {
   "cell_type": "code",
   "execution_count": null,
   "id": "0248bd04",
   "metadata": {},
   "outputs": [],
   "source": [
    "class Solution:\n",
    "    def isAnagram(self, s: str, t: str) -> bool:\n",
    "        return sorted(s) == sorted(t)\n",
    "        \n",
    "        # # V2\n",
    "        # return sorted(s) == sorted(t)\n",
    "        \n",
    "#         # Sol 1. Works but slow\n",
    "#         t = list(t)\n",
    "#         for c in s:\n",
    "#             # print(i, c, t)\n",
    "#             try:\n",
    "#                 t.remove(c)\n",
    "#             except:\n",
    "#                 return False\n",
    "            \n",
    "#         if len(t)==0:\n",
    "#             return True\n",
    "#         return False"
   ]
  }
 ],
 "metadata": {
  "kernelspec": {
   "display_name": "Python 3 (ipykernel)",
   "language": "python",
   "name": "python3"
  },
  "language_info": {
   "codemirror_mode": {
    "name": "ipython",
    "version": 3
   },
   "file_extension": ".py",
   "mimetype": "text/x-python",
   "name": "python",
   "nbconvert_exporter": "python",
   "pygments_lexer": "ipython3",
   "version": "3.8.11"
  }
 },
 "nbformat": 4,
 "nbformat_minor": 5
}
