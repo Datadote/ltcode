{
 "cells": [
  {
   "cell_type": "code",
   "execution_count": null,
   "id": "41678601",
   "metadata": {},
   "outputs": [],
   "source": [
    "# Definition for singly-linked list.\n",
    "# class ListNode:\n",
    "#     def __init__(self, val=0, next=None):\n",
    "#         self.val = val\n",
    "#         self.next = next\n",
    "class Solution:\n",
    "    def removeElements(self, head: Optional[ListNode], val: int) -> Optional[ListNode]:\n",
    "        # Go through linked list. If next node == val, just do replace with next.next\n",
    "        # Need to check next node, and see if we skip\n",
    "        dummy = tail = ListNode(next=head)\n",
    "        \n",
    "        while tail.next:\n",
    "            # print(tail.val)\n",
    "            if tail.next.val == val:\n",
    "                tail.next = tail.next.next\n",
    "            else:\n",
    "                tail = tail.next\n",
    "            \n",
    "        return dummy.next"
   ]
  }
 ],
 "metadata": {
  "kernelspec": {
   "display_name": "Python 3 (ipykernel)",
   "language": "python",
   "name": "python3"
  },
  "language_info": {
   "codemirror_mode": {
    "name": "ipython",
    "version": 3
   },
   "file_extension": ".py",
   "mimetype": "text/x-python",
   "name": "python",
   "nbconvert_exporter": "python",
   "pygments_lexer": "ipython3",
   "version": "3.8.11"
  }
 },
 "nbformat": 4,
 "nbformat_minor": 5
}
