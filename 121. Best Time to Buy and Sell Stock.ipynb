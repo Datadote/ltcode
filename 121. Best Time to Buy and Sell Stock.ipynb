{
 "cells": [
  {
   "cell_type": "code",
   "execution_count": null,
   "id": "ea55ce8e",
   "metadata": {},
   "outputs": [],
   "source": [
    "class Solution:\n",
    "    def maxProfit(self, prices: List[int]) -> int:\n",
    "       \n",
    "        # Passes, but still slow\n",
    "        plow = prices[0]\n",
    "        top_profit = 0\n",
    "        \n",
    "        for p in prices:\n",
    "            profit = p - plow\n",
    "            if profit > top_profit:\n",
    "                top_profit = profit\n",
    "            if p < plow:\n",
    "                plow = p\n",
    "        return top_profit\n",
    "        \n",
    "        \n",
    "        # # V1. Probably works, but time limit exceeded\n",
    "        # top_profit = 0\n",
    "        # for i, p in enumerate(prices):\n",
    "        #     profit = max(prices[i:]) - p\n",
    "        #     if profit > top_profit:\n",
    "        #         top_profit = profit\n",
    "        # return top_profit"
   ]
  }
 ],
 "metadata": {
  "kernelspec": {
   "display_name": "Python 3 (ipykernel)",
   "language": "python",
   "name": "python3"
  },
  "language_info": {
   "codemirror_mode": {
    "name": "ipython",
    "version": 3
   },
   "file_extension": ".py",
   "mimetype": "text/x-python",
   "name": "python",
   "nbconvert_exporter": "python",
   "pygments_lexer": "ipython3",
   "version": "3.8.11"
  }
 },
 "nbformat": 4,
 "nbformat_minor": 5
}
