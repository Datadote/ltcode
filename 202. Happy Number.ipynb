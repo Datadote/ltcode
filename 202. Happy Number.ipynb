{
 "cells": [
  {
   "cell_type": "code",
   "execution_count": null,
   "id": "dbdd8b6f",
   "metadata": {},
   "outputs": [],
   "source": [
    "class Solution:\n",
    "    def isHappy(self, n: int) -> bool:\n",
    "        # Need to get single's digit, and see if 0 (divmod)\n",
    "        # Then loop until n = 0 in divmod\n",
    "        # Could just convert to str and then use int\n",
    "        # Need to check for repeat. Either 1 or repeats\n",
    "        \n",
    "        d = {}\n",
    "        summ = n\n",
    "        \n",
    "        while True:\n",
    "            summ = sum([int(x)*int(x) for x in str(summ)])\n",
    "            if summ == 1:\n",
    "                return True\n",
    "            if summ in d:\n",
    "                return False\n",
    "            else:\n",
    "                d[summ] = None"
   ]
  }
 ],
 "metadata": {
  "kernelspec": {
   "display_name": "Python 3 (ipykernel)",
   "language": "python",
   "name": "python3"
  },
  "language_info": {
   "codemirror_mode": {
    "name": "ipython",
    "version": 3
   },
   "file_extension": ".py",
   "mimetype": "text/x-python",
   "name": "python",
   "nbconvert_exporter": "python",
   "pygments_lexer": "ipython3",
   "version": "3.8.11"
  }
 },
 "nbformat": 4,
 "nbformat_minor": 5
}
