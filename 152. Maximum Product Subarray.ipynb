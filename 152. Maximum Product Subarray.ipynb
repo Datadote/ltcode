{
 "cells": [
  {
   "cell_type": "code",
   "execution_count": null,
   "id": "a218f21f",
   "metadata": {},
   "outputs": [],
   "source": [
    "class Solution:\n",
    "    def maxProduct(self, nums: List[int]) -> int:\n",
    "        # keep maximum and minimum number\n",
    "        # res = max(nums) # works with using -math.inf\n",
    "        res = -math.inf\n",
    "        curMax, curMin = 1, 1\n",
    "        \n",
    "        for n in nums:\n",
    "            # The 3rd term \"n\" helps resolve the 0 cases\n",
    "            # if n == 0:\n",
    "            #     curMax, curMin = 1, 1\n",
    "            #     continue\n",
    "\n",
    "            tmp = curMax * n\n",
    "            curMax = max(tmp, n*curMin, n) # eg [-1, 8]\n",
    "            curMin = min(tmp, n*curMin, n) # eg [-1, -8]\n",
    "            # print(n, tmp, curMax, curMin)\n",
    "            res = max(res, curMax)\n",
    "\n",
    "        return res\n",
    "\n",
    "        #         # V1 works but too slow\n",
    "        # maxProd = -math.inf\n",
    "        # for i in range(len(nums)):\n",
    "        #     prod = 1\n",
    "        #     for j in range(i, len(nums)):\n",
    "        #         prod *= nums[j]\n",
    "        #         maxProd = max(maxProd,prod)\n",
    "        #     # maxProd = max(maxProd,prod)\n",
    "        # return maxProd"
   ]
  }
 ],
 "metadata": {
  "kernelspec": {
   "display_name": "Python 3 (ipykernel)",
   "language": "python",
   "name": "python3"
  },
  "language_info": {
   "codemirror_mode": {
    "name": "ipython",
    "version": 3
   },
   "file_extension": ".py",
   "mimetype": "text/x-python",
   "name": "python",
   "nbconvert_exporter": "python",
   "pygments_lexer": "ipython3",
   "version": "3.8.11"
  }
 },
 "nbformat": 4,
 "nbformat_minor": 5
}
