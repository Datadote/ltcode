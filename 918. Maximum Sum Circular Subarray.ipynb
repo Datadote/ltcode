{
 "cells": [
  {
   "cell_type": "code",
   "execution_count": null,
   "id": "0d0cd084",
   "metadata": {},
   "outputs": [],
   "source": [
    "class Solution:\n",
    "    def maxSubarraySumCircular(self, nums: List[int]) -> int:\n",
    "\n",
    "        # Do max sum and just loop around until start. Once we've\n",
    "        # done n times, then finish. Keep first running sum\n",
    "        # If we reach end, wrap around once until max_sum triggered\n",
    "        curSum, maxSum = 0, -math.inf\n",
    "        len_nums = len(nums)\n",
    "        neg_index = None\n",
    "\n",
    "        # Find first negative number, and set that as the anchor\n",
    "        # If no anchor (negative value), then only need 1 pass\n",
    "        # Redo kadane algorithm on new array, reset curSum, keep maxSum\n",
    "        for i, n in enumerate(nums):\n",
    "            curSum = max(curSum + n, n)\n",
    "            if curSum > maxSum:\n",
    "                maxSum = curSum\n",
    "            if neg_index is None and n < 0:\n",
    "                neg_index = i\n",
    "        print(i, maxSum)\n",
    "\n",
    "        curSum = 0\n",
    "        print(neg_index)\n",
    "        print(nums[neg_index:]+nums[:neg_index])\n",
    "        if neg_index:\n",
    "            for n in nums[neg_index:]+nums[:neg_index]:\n",
    "                curSum = max(curSum + n, n)\n",
    "                if curSum > maxSum:\n",
    "                    maxSum = curSum\n",
    "        return maxSum"
   ]
  }
 ],
 "metadata": {
  "kernelspec": {
   "display_name": "Python 3 (ipykernel)",
   "language": "python",
   "name": "python3"
  },
  "language_info": {
   "codemirror_mode": {
    "name": "ipython",
    "version": 3
   },
   "file_extension": ".py",
   "mimetype": "text/x-python",
   "name": "python",
   "nbconvert_exporter": "python",
   "pygments_lexer": "ipython3",
   "version": "3.8.11"
  }
 },
 "nbformat": 4,
 "nbformat_minor": 5
}
