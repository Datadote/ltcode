{
 "cells": [
  {
   "cell_type": "code",
   "execution_count": null,
   "id": "927e8f77",
   "metadata": {},
   "outputs": [],
   "source": [
    "class Solution:\n",
    "    def mergeAlternately(self, word1: str, word2: str) -> str:\n",
    "        s = ''\n",
    "        i = 0\n",
    "        try:\n",
    "            while word1[i] and word2[i]:\n",
    "                s = s + word1[i]\n",
    "                s = s + word2[i]\n",
    "                i += 1\n",
    "        except:\n",
    "            rest = word1[i:] or word2[i:]\n",
    "            s = s + rest\n",
    "        return s"
   ]
  }
 ],
 "metadata": {
  "kernelspec": {
   "display_name": "Python 3 (ipykernel)",
   "language": "python",
   "name": "python3"
  },
  "language_info": {
   "codemirror_mode": {
    "name": "ipython",
    "version": 3
   },
   "file_extension": ".py",
   "mimetype": "text/x-python",
   "name": "python",
   "nbconvert_exporter": "python",
   "pygments_lexer": "ipython3",
   "version": "3.8.11"
  }
 },
 "nbformat": 4,
 "nbformat_minor": 5
}
