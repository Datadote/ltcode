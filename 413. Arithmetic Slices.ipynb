{
 "cells": [
  {
   "cell_type": "code",
   "execution_count": null,
   "id": "aad8a870",
   "metadata": {},
   "outputs": [],
   "source": [
    "class Solution:\n",
    "    def numberOfArithmeticSlices(self, nums: List[int]) -> int:\n",
    "        # arith: 3+ elements, diff between two consecutive elements all equal\n",
    "        # nums length can be >=1\n",
    "        # are elements unique or sorted? (don't want to sort)\n",
    "\n",
    "        # keep running count\n",
    "        # for every element, for every element afterwards while diff is true\n",
    "        total = 0\n",
    "        for i in range(1, len(nums)):\n",
    "            count = 1\n",
    "            diff1 = nums[i]-nums[i-1]\n",
    "            for j in range(i, len(nums)):\n",
    "                diff2 = nums[j]-nums[j-1]\n",
    "                \n",
    "                if diff1 != diff2:\n",
    "                    break\n",
    "                if count > 1 and diff1==diff2:\n",
    "                    total += 1\n",
    "                else:\n",
    "                    count += 1\n",
    "        return total"
   ]
  }
 ],
 "metadata": {
  "kernelspec": {
   "display_name": "Python 3 (ipykernel)",
   "language": "python",
   "name": "python3"
  },
  "language_info": {
   "codemirror_mode": {
    "name": "ipython",
    "version": 3
   },
   "file_extension": ".py",
   "mimetype": "text/x-python",
   "name": "python",
   "nbconvert_exporter": "python",
   "pygments_lexer": "ipython3",
   "version": "3.8.11"
  }
 },
 "nbformat": 4,
 "nbformat_minor": 5
}
