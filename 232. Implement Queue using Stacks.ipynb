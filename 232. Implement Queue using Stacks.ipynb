{
 "cells": [
  {
   "cell_type": "code",
   "execution_count": null,
   "id": "87887e78",
   "metadata": {},
   "outputs": [],
   "source": [
    "class MyQueue:\n",
    "\n",
    "    def __init__(self):\n",
    "        self.enq = []\n",
    "        self.deq = []\n",
    "\n",
    "    def push(self, x: int) -> None:\n",
    "        self.enq.append(x)\n",
    "\n",
    "    def pop(self) -> int:\n",
    "        if not self.deq:\n",
    "            while self.enq:\n",
    "                self.deq.append(self.enq.pop())\n",
    "        return self.deq.pop()\n",
    "\n",
    "    def peek(self) -> int:\n",
    "        if not self.deq:\n",
    "            while self.enq:\n",
    "                self.deq.append(self.enq.pop())\n",
    "        return self.deq[-1]\n",
    "\n",
    "    def empty(self) -> bool:\n",
    "        return len(self.enq) == 0 and len(self.deq) == 0\n",
    "\n",
    "\n",
    "# Your MyQueue object will be instantiated and called as such:\n",
    "# obj = MyQueue()\n",
    "# obj.push(x)\n",
    "# param_2 = obj.pop()\n",
    "# param_3 = obj.peek()\n",
    "# param_4 = obj.empty()"
   ]
  }
 ],
 "metadata": {
  "kernelspec": {
   "display_name": "Python 3 (ipykernel)",
   "language": "python",
   "name": "python3"
  },
  "language_info": {
   "codemirror_mode": {
    "name": "ipython",
    "version": 3
   },
   "file_extension": ".py",
   "mimetype": "text/x-python",
   "name": "python",
   "nbconvert_exporter": "python",
   "pygments_lexer": "ipython3",
   "version": "3.8.11"
  }
 },
 "nbformat": 4,
 "nbformat_minor": 5
}
