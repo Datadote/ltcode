{
 "cells": [
  {
   "cell_type": "code",
   "execution_count": null,
   "id": "8c2460f5",
   "metadata": {},
   "outputs": [],
   "source": [
    "class Solution:\n",
    "    def diagonalSum(self, mat: List[List[int]]) -> int:\n",
    "        # Add diagonals, subtract middle index if added both\n",
    "        # Has middle crossover if len is odd. Even no cross over\n",
    "        \n",
    "        summ = 0\n",
    "        h = len(mat)\n",
    "        for i in range(h):\n",
    "            summ += mat[i][i]\n",
    "            summ += mat[i][h-i-1]\n",
    "            \n",
    "        if h%2 == 1:\n",
    "            num = mat[h//2][h//2]\n",
    "            summ -= num\n",
    "        \n",
    "        return summ"
   ]
  }
 ],
 "metadata": {
  "kernelspec": {
   "display_name": "Python 3 (ipykernel)",
   "language": "python",
   "name": "python3"
  },
  "language_info": {
   "codemirror_mode": {
    "name": "ipython",
    "version": 3
   },
   "file_extension": ".py",
   "mimetype": "text/x-python",
   "name": "python",
   "nbconvert_exporter": "python",
   "pygments_lexer": "ipython3",
   "version": "3.8.11"
  }
 },
 "nbformat": 4,
 "nbformat_minor": 5
}
