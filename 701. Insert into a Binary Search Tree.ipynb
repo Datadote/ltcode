{
 "cells": [
  {
   "cell_type": "code",
   "execution_count": null,
   "id": "6d34d711",
   "metadata": {},
   "outputs": [],
   "source": [
    "# Definition for a binary tree node.\n",
    "# class TreeNode:\n",
    "#     def __init__(self, val=0, left=None, right=None):\n",
    "#         self.val = val\n",
    "#         self.left = left\n",
    "#         self.right = right\n",
    "class Solution:\n",
    "    def insertIntoBST(self, root: Optional[TreeNode], val: int) -> Optional[TreeNode]:\n",
    "        # Find a leaf, and insert into one of its null children\n",
    "        if root is None:\n",
    "            return TreeNode(val)\n",
    "        if val < root.val:\n",
    "            root.left = self.insertIntoBST(root.left, val)\n",
    "        if val > root.val:\n",
    "            root.right = self.insertIntoBST(root.right, val)\n",
    "        return root"
   ]
  }
 ],
 "metadata": {
  "kernelspec": {
   "display_name": "Python 3 (ipykernel)",
   "language": "python",
   "name": "python3"
  },
  "language_info": {
   "codemirror_mode": {
    "name": "ipython",
    "version": 3
   },
   "file_extension": ".py",
   "mimetype": "text/x-python",
   "name": "python",
   "nbconvert_exporter": "python",
   "pygments_lexer": "ipython3",
   "version": "3.8.11"
  }
 },
 "nbformat": 4,
 "nbformat_minor": 5
}
