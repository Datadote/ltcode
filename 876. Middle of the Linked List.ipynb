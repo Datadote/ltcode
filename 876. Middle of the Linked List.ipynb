{
 "cells": [
  {
   "cell_type": "code",
   "execution_count": null,
   "id": "13c0855b",
   "metadata": {},
   "outputs": [],
   "source": [
    "# Definition for singly-linked list.\n",
    "# class ListNode:\n",
    "#     def __init__(self, val=0, next=None):\n",
    "#         self.val = val\n",
    "#         self.next = next\n",
    "class Solution:\n",
    "    def middleNode(self, head: Optional[ListNode]) -> Optional[ListNode]:\n",
    "        # Need to iterate through whole list to get length and figure out middle\n",
    "        # Maybe go through twice?\n",
    "        dummy = tail = ListNode(next=head)\n",
    "        \n",
    "        i = 0\n",
    "        \n",
    "        # Get the length\n",
    "        while tail.next:\n",
    "            i += 1\n",
    "            tail = tail.next\n",
    "        \n",
    "        stop_i = i//2 + 1\n",
    "        for i in range(stop_i):\n",
    "            dummy = dummy.next\n",
    "        \n",
    "        return dummy\n",
    "        \n",
    "#         # V1\n",
    "#         # 1 - get length of list\n",
    "#         # 2 - Find middle next or second middle node\n",
    "#         # 3 - Traverse list again till middle. Could append values so don't\n",
    "#         # need to traverse again, but memory hit\n",
    "        \n",
    "#         length = 0\n",
    "#         temp_head = head\n",
    "        \n",
    "#         while temp_head:\n",
    "#             length += 1\n",
    "#             temp_head = temp_head.next\n",
    "            \n",
    "#         index = length//2\n",
    "        \n",
    "#         for i in range(index):\n",
    "#             head = head.next\n",
    "            \n",
    "#         return head"
   ]
  }
 ],
 "metadata": {
  "kernelspec": {
   "display_name": "Python 3 (ipykernel)",
   "language": "python",
   "name": "python3"
  },
  "language_info": {
   "codemirror_mode": {
    "name": "ipython",
    "version": 3
   },
   "file_extension": ".py",
   "mimetype": "text/x-python",
   "name": "python",
   "nbconvert_exporter": "python",
   "pygments_lexer": "ipython3",
   "version": "3.8.11"
  }
 },
 "nbformat": 4,
 "nbformat_minor": 5
}
