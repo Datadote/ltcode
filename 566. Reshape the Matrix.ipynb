{
 "cells": [
  {
   "cell_type": "code",
   "execution_count": null,
   "id": "b5576395",
   "metadata": {},
   "outputs": [],
   "source": [
    "\"\"\"\n",
    "Should have a modulus option without making the eles list? Maybe inner for loop\n",
    "\"\"\""
   ]
  },
  {
   "cell_type": "code",
   "execution_count": null,
   "id": "a55cdc84",
   "metadata": {},
   "outputs": [],
   "source": [
    "class Solution:\n",
    "    def matrixReshape(self, mat: List[List[int]], r: int, c: int) -> List[List[int]]:\n",
    "        eles = [item for sublist in mat for item in sublist]\n",
    "        if len(eles) == r*c:\n",
    "            l_reshaped = []\n",
    "            for i in range(r):\n",
    "                l_temp = eles[(i*c):(i*c)+c]\n",
    "                l_reshaped.append(l_temp)\n",
    "                \n",
    "            # l_reshaped = [eles[(i*c):(i*c)+c] for i in range(r)]\n",
    "            return l_reshaped\n",
    "        else:\n",
    "            return mat"
   ]
  }
 ],
 "metadata": {
  "kernelspec": {
   "display_name": "Python 3 (ipykernel)",
   "language": "python",
   "name": "python3"
  },
  "language_info": {
   "codemirror_mode": {
    "name": "ipython",
    "version": 3
   },
   "file_extension": ".py",
   "mimetype": "text/x-python",
   "name": "python",
   "nbconvert_exporter": "python",
   "pygments_lexer": "ipython3",
   "version": "3.8.11"
  }
 },
 "nbformat": 4,
 "nbformat_minor": 5
}
