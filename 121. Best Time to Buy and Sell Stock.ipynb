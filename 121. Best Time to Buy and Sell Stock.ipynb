{
 "cells": [
  {
   "cell_type": "code",
   "execution_count": null,
   "id": "ea55ce8e",
   "metadata": {},
   "outputs": [],
   "source": [
    "class Solution:\n",
    "    def maxProfit(self, prices: List[int]) -> int:\n",
    "        # Keep track of lowest price, and max profit\n",
    "        # Iterate through prices\n",
    "        priceLowest, maxProfit = math.inf, 0\n",
    "        for price in prices:\n",
    "            priceLowest = min(priceLowest, price)\n",
    "            maxProfit = max(maxProfit, price-priceLowest)\n",
    "        return maxProfit\n",
    "        \n",
    "        # V1 same idea but more verbose\n",
    "        # max_prof, cur_prof, plow = 0, 0, math.inf\n",
    "        \n",
    "        # for p in prices:\n",
    "        #     cur_prof = p-plow\n",
    "        #     if cur_prof > max_prof:\n",
    "        #         max_prof = cur_prof\n",
    "        #     if p < plow:\n",
    "        #         plow = p\n",
    "        # return max_prof"
   ]
  }
 ],
 "metadata": {
  "kernelspec": {
   "display_name": "Python 3 (ipykernel)",
   "language": "python",
   "name": "python3"
  },
  "language_info": {
   "codemirror_mode": {
    "name": "ipython",
    "version": 3
   },
   "file_extension": ".py",
   "mimetype": "text/x-python",
   "name": "python",
   "nbconvert_exporter": "python",
   "pygments_lexer": "ipython3",
   "version": "3.8.11"
  }
 },
 "nbformat": 4,
 "nbformat_minor": 5
}
