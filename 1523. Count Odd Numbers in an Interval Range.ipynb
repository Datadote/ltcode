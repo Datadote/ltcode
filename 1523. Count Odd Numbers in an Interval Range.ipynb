{
 "cells": [
  {
   "cell_type": "code",
   "execution_count": null,
   "id": "d6a39e05",
   "metadata": {},
   "outputs": [],
   "source": [
    "class Solution:\n",
    "    def countOdds(self, low: int, high: int) -> int:\n",
    "        # take the difference, divide by 2 and floor\n",
    "        # Check odd/odd, even/even, odd/even\n",
    "        # odd/odd, add one\n",
    "        # even/even, don't add one\n",
    "        # odd/even, add one\n",
    "        \n",
    "        num = (high-low)//2\n",
    "        if low%2==1 or high%2==1:\n",
    "            num += 1\n",
    "        return num"
   ]
  }
 ],
 "metadata": {
  "kernelspec": {
   "display_name": "Python 3 (ipykernel)",
   "language": "python",
   "name": "python3"
  },
  "language_info": {
   "codemirror_mode": {
    "name": "ipython",
    "version": 3
   },
   "file_extension": ".py",
   "mimetype": "text/x-python",
   "name": "python",
   "nbconvert_exporter": "python",
   "pygments_lexer": "ipython3",
   "version": "3.8.11"
  }
 },
 "nbformat": 4,
 "nbformat_minor": 5
}
