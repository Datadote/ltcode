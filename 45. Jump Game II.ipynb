{
 "cells": [
  {
   "cell_type": "code",
   "execution_count": null,
   "id": "022dc31f",
   "metadata": {},
   "outputs": [],
   "source": [
    "class Solution:\n",
    "    def jump(self, nums: List[int]) -> int:\n",
    "        # Can go backwards, but need to search all entries and keep best one\n",
    "        # Then jump to that entry\n",
    "        # When goal == 0, return # of jumps\n",
    "        goal = len(nums)-1\n",
    "        jumps = 0\n",
    "        for i in range(len(nums)-1, -1, -1):\n",
    "            for j in range(i):\n",
    "                if j + nums[j] >= goal:\n",
    "                    jumps += 1\n",
    "                    goal = j\n",
    "                    break\n",
    "            if goal == 0:\n",
    "                return jumps"
   ]
  }
 ],
 "metadata": {
  "kernelspec": {
   "display_name": "Python 3 (ipykernel)",
   "language": "python",
   "name": "python3"
  },
  "language_info": {
   "codemirror_mode": {
    "name": "ipython",
    "version": 3
   },
   "file_extension": ".py",
   "mimetype": "text/x-python",
   "name": "python",
   "nbconvert_exporter": "python",
   "pygments_lexer": "ipython3",
   "version": "3.8.11"
  }
 },
 "nbformat": 4,
 "nbformat_minor": 5
}
