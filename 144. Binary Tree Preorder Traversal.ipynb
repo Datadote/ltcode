{
 "cells": [
  {
   "cell_type": "code",
   "execution_count": null,
   "id": "0f4c25ee",
   "metadata": {},
   "outputs": [],
   "source": [
    "# Definition for a binary tree node.\n",
    "# class TreeNode:\n",
    "#     def __init__(self, val=0, left=None, right=None):\n",
    "#         self.val = val\n",
    "#         self.left = left\n",
    "#         self.right = right\n",
    "class Solution:\n",
    "    def preorderTraversal(self, root: Optional[TreeNode]) -> List[int]:\n",
    "        # Preorder means P L R. So append first\n",
    "        l = []\n",
    "        def traverse(root):\n",
    "            if root:\n",
    "                l.append(root.val)\n",
    "                traverse(root.left)\n",
    "                traverse(root.right)\n",
    "            return\n",
    "        traverse(root)\n",
    "        return l"
   ]
  },
  {
   "cell_type": "code",
   "execution_count": null,
   "id": "a3d93b59",
   "metadata": {},
   "outputs": [],
   "source": [
    "# Definition for a binary tree node.\n",
    "# class TreeNode:\n",
    "#     def __init__(self, val=0, left=None, right=None):\n",
    "#         self.val = val\n",
    "#         self.left = left\n",
    "#         self.right = right\n",
    "class Solution:\n",
    "    def preorderTraversal(self, root: Optional[TreeNode]) -> List[int]:\n",
    "        # Preorder = P L R\n",
    "        l = []\n",
    "        def traverse(root):\n",
    "            if root:\n",
    "                l.append(root.val)\n",
    "                traverse(root.left)\n",
    "                traverse(root.right)\n",
    "        traverse(root)\n",
    "        return l"
   ]
  }
 ],
 "metadata": {
  "kernelspec": {
   "display_name": "Python 3 (ipykernel)",
   "language": "python",
   "name": "python3"
  },
  "language_info": {
   "codemirror_mode": {
    "name": "ipython",
    "version": 3
   },
   "file_extension": ".py",
   "mimetype": "text/x-python",
   "name": "python",
   "nbconvert_exporter": "python",
   "pygments_lexer": "ipython3",
   "version": "3.8.11"
  }
 },
 "nbformat": 4,
 "nbformat_minor": 5
}
