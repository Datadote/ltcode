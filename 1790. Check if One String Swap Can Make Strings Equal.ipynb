{
 "cells": [
  {
   "cell_type": "code",
   "execution_count": null,
   "id": "5050bb7b",
   "metadata": {},
   "outputs": [],
   "source": [
    "class Solution:\n",
    "    def areAlmostEqual(self, s1: str, s2: str) -> bool:\n",
    "        # If we can edit 1 str with at most one string swap, \n",
    "        # Can we make the strings equal? Need to check both strings\n",
    "        # Need locations to be the same and character count to be the same\n",
    "        # At most only 2 characters can be wrong, if sum > 2, return False\n",
    "    \n",
    "        \n",
    "        l1, l2 = [], []\n",
    "        num_diff = 0\n",
    "        for i in range(len(s1)):\n",
    "            if s1[i] != s2[i]:\n",
    "                num_diff += 1\n",
    "                l1.append(s1[i])\n",
    "                l2.append(s2[i])\n",
    "            if num_diff > 2:\n",
    "                return False\n",
    "            \n",
    "        for c in l1:\n",
    "            if c in l2:\n",
    "                pass\n",
    "            else:\n",
    "                return False\n",
    "        return True"
   ]
  }
 ],
 "metadata": {
  "kernelspec": {
   "display_name": "Python 3 (ipykernel)",
   "language": "python",
   "name": "python3"
  },
  "language_info": {
   "codemirror_mode": {
    "name": "ipython",
    "version": 3
   },
   "file_extension": ".py",
   "mimetype": "text/x-python",
   "name": "python",
   "nbconvert_exporter": "python",
   "pygments_lexer": "ipython3",
   "version": "3.8.11"
  }
 },
 "nbformat": 4,
 "nbformat_minor": 5
}
