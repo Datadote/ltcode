{
 "cells": [
  {
   "cell_type": "code",
   "execution_count": null,
   "id": "4a5f9bbc",
   "metadata": {},
   "outputs": [],
   "source": [
    "class Solution:\n",
    "    def checkStraightLine(self, coordinates: List[List[int]]) -> bool:\n",
    "        # Two points is a line. So if only 2 pts, return True\n",
    "        # check three points at a time and iterate through the list\n",
    "        # This can account for vertical lines, where slope is infinite (div by 0)\n",
    "        # check 2 slopes (3 pts), and cross multiply to avoid dividing by 0\n",
    "\n",
    "        if len(coordinates) == 2:\n",
    "            return True\n",
    "        \n",
    "        def compare_3(c0,c1,c2):\n",
    "            x0, x1, x2 = c0[0], c1[0], c2[0]\n",
    "            y0, y1, y2 = c0[1], c1[1], c2[1]\n",
    "            return (y1-y0)*(x2-x1) == (y2-y1)*(x1-x0) # slope0 == slope1\n",
    "        \n",
    "        for i in range(len(coordinates)-2):\n",
    "            if not compare_3(coordinates[i], coordinates[i+1], coordinates[i+2]):\n",
    "                return False\n",
    "        \n",
    "        return True"
   ]
  }
 ],
 "metadata": {
  "kernelspec": {
   "display_name": "Python 3 (ipykernel)",
   "language": "python",
   "name": "python3"
  },
  "language_info": {
   "codemirror_mode": {
    "name": "ipython",
    "version": 3
   },
   "file_extension": ".py",
   "mimetype": "text/x-python",
   "name": "python",
   "nbconvert_exporter": "python",
   "pygments_lexer": "ipython3",
   "version": "3.8.11"
  }
 },
 "nbformat": 4,
 "nbformat_minor": 5
}
