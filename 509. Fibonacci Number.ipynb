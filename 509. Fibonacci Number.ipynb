{
 "cells": [
  {
   "cell_type": "code",
   "execution_count": null,
   "id": "e6b0447f",
   "metadata": {},
   "outputs": [],
   "source": [
    "class Solution:\n",
    "    # # V3 linear sum. V2 version might be better. less space and lsightly faster\n",
    "    # s0, s1 = 0, 1\n",
    "    # def fib(self, n: int) -> int:\n",
    "    #     s = 0\n",
    "    #     # Try version where we just sum last two nums\n",
    "    #     if n == 0:\n",
    "    #         return 0\n",
    "    #     elif n == 1:\n",
    "    #         return 1\n",
    "    #     for i in range(n-1):\n",
    "    #         s = self.s0 + self.s1\n",
    "    #         self.s0, self.s1 = self.s1, s\n",
    "    #     return s\n",
    "\n",
    "    # V2 Fast memoized version. Trade a little space for a lot of speed\n",
    "    d = {0: 0, 1: 1}\n",
    "    \n",
    "    def fib(self, n: int) -> int:\n",
    "        if n in self.d:\n",
    "            return self.d[n]\n",
    "        else:\n",
    "            result = self.fib(n-1) + self.fib(n-2)\n",
    "            self.d[n] = result\n",
    "            return result\n",
    "        \n",
    "        # # V1 slow working version\n",
    "        # if n == 0:\n",
    "        #     return 0\n",
    "        # elif n == 1:\n",
    "        #     return 1\n",
    "        # else:\n",
    "        #     return self.fib(n-1) + self.fib(n-2)"
   ]
  }
 ],
 "metadata": {
  "kernelspec": {
   "display_name": "Python 3 (ipykernel)",
   "language": "python",
   "name": "python3"
  },
  "language_info": {
   "codemirror_mode": {
    "name": "ipython",
    "version": 3
   },
   "file_extension": ".py",
   "mimetype": "text/x-python",
   "name": "python",
   "nbconvert_exporter": "python",
   "pygments_lexer": "ipython3",
   "version": "3.8.11"
  }
 },
 "nbformat": 4,
 "nbformat_minor": 5
}
