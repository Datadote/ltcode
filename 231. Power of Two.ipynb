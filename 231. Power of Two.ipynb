{
 "cells": [
  {
   "cell_type": "code",
   "execution_count": null,
   "id": "d2220cb6",
   "metadata": {},
   "outputs": [],
   "source": [
    "# There is a 2's complement solution that is faster\n",
    "\n",
    "class Solution:\n",
    "    # V3 - faster than all others (~50 ms)\n",
    "    def isPowerOfTwo(self, n: int) -> bool:\n",
    "        try:\n",
    "            if math.log2(n) % 1 == 0:\n",
    "                return True\n",
    "            else:\n",
    "                return False\n",
    "        except:\n",
    "            return False\n",
    "        \n",
    "# V2 - Slower than V1? (~500-1000 ms)\n",
    "#     d = {0: False, 1: True}\n",
    "    # def isPowerOfTwo(self, n: int) -> bool:\n",
    "#         if n in self.d:\n",
    "#             return self.d[n]\n",
    "#         else:\n",
    "#             result = self.isPowerOfTwo(n/2)\n",
    "#             if result == True:\n",
    "#                 self.d[n] = result\n",
    "#             return result\n",
    "\n",
    "    # V1 - Slow working version (200-800 ms)\n",
    "    # def isPowerOfTwo(self, n: int) -> bool:\n",
    "    #     if n == 0:\n",
    "    #         return False\n",
    "    #     elif n == 1:\n",
    "    #         return True\n",
    "    #     else:\n",
    "    #         return self.isPowerOfTwo(n/2)"
   ]
  }
 ],
 "metadata": {
  "kernelspec": {
   "display_name": "Python 3 (ipykernel)",
   "language": "python",
   "name": "python3"
  },
  "language_info": {
   "codemirror_mode": {
    "name": "ipython",
    "version": 3
   },
   "file_extension": ".py",
   "mimetype": "text/x-python",
   "name": "python",
   "nbconvert_exporter": "python",
   "pygments_lexer": "ipython3",
   "version": "3.8.11"
  }
 },
 "nbformat": 4,
 "nbformat_minor": 5
}
