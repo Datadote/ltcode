{
 "cells": [
  {
   "cell_type": "code",
   "execution_count": null,
   "id": "7f19668b",
   "metadata": {},
   "outputs": [],
   "source": [
    "class Solution:\n",
    "    def minCostClimbingStairs(self, cost: List[int]) -> int:\n",
    "        # Keep 2 temp variables and iterate each cost from back to front\n",
    "        # Each item depends on the previous s0, s1\n",
    "        # s0 will be the min, and s1 will just replaced by s0\n",
    "        # End with min of s0, s1\n",
    "        s0, s1 = 0, 0\n",
    "\n",
    "        for i in range(len(cost)-1, -1, -1):\n",
    "            \n",
    "            item = cost[i]\n",
    "            s0, s1 = min(item+s0, item+s1), s0\n",
    "            # print(i, item, s0, s1)\n",
    "        return min(s0, s1)\n",
    "        \n",
    "    # # V1, works but too slow (2^n)\n",
    "    # low, high = 0, 0\n",
    "    # def minCostClimbingStairs(self, cost: List[int]) -> int:\n",
    "    #     if len(cost)==2:\n",
    "    #         return min(cost)\n",
    "    #     elif len(cost)==1:\n",
    "    #         return 0\n",
    "    #     else:\n",
    "    #         items = cost[-2:]\n",
    "    #         # print(items)\n",
    "    #         if items[0] > items[1]: # use later item\n",
    "    #             # print('skip 1')\n",
    "    #             low, high = items[1], items[0]\n",
    "    #             return min(low + self.minCostClimbingStairs(cost[:-1]),\n",
    "    #                        high + self.minCostClimbingStairs(cost[:-2])\n",
    "    #             )\n",
    "    #         else:\n",
    "    #             # print('skip 2')\n",
    "    #             low, high = items[0], items[1]\n",
    "    #             return min(low + self.minCostClimbingStairs(cost[:-2]),\n",
    "    #                        high + self.minCostClimbingStairs(cost[:-2])\n",
    "    #             )"
   ]
  }
 ],
 "metadata": {
  "kernelspec": {
   "display_name": "Python 3 (ipykernel)",
   "language": "python",
   "name": "python3"
  },
  "language_info": {
   "codemirror_mode": {
    "name": "ipython",
    "version": 3
   },
   "file_extension": ".py",
   "mimetype": "text/x-python",
   "name": "python",
   "nbconvert_exporter": "python",
   "pygments_lexer": "ipython3",
   "version": "3.8.11"
  }
 },
 "nbformat": 4,
 "nbformat_minor": 5
}
