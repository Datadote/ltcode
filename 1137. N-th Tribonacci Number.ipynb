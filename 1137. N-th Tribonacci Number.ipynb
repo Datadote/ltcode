{
 "cells": [
  {
   "cell_type": "code",
   "execution_count": null,
   "id": "49c2a543",
   "metadata": {},
   "outputs": [],
   "source": [
    "class Solution:\n",
    "    d = {0:0, 1:1, 2:1}\n",
    "    def tribonacci(self, n: int) -> int:\n",
    "        if n in self.d:\n",
    "            return self.d[n]\n",
    "        else:\n",
    "            result = self.tribonacci(n-3) + self.tribonacci(n-2) + self.tribonacci(n-1)\n",
    "            self.d[n] = result\n",
    "            return result"
   ]
  }
 ],
 "metadata": {
  "kernelspec": {
   "display_name": "Python 3 (ipykernel)",
   "language": "python",
   "name": "python3"
  },
  "language_info": {
   "codemirror_mode": {
    "name": "ipython",
    "version": 3
   },
   "file_extension": ".py",
   "mimetype": "text/x-python",
   "name": "python",
   "nbconvert_exporter": "python",
   "pygments_lexer": "ipython3",
   "version": "3.8.11"
  }
 },
 "nbformat": 4,
 "nbformat_minor": 5
}
