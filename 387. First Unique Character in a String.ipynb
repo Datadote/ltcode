{
 "cells": [
  {
   "cell_type": "code",
   "execution_count": null,
   "id": "42f8c30f",
   "metadata": {},
   "outputs": [],
   "source": [
    "class Solution:\n",
    "    def firstUniqChar(self, s: str) -> int:\n",
    "        # V4 is ok, but V1 is faster because we don't need to index through\n",
    "        # Also, V1 doesn't assume dictionary ordering\n",
    "        # Needs two passes\n",
    "        d = {}\n",
    "        for c in s:\n",
    "            d[c] = d.get(c, 0) + 1\n",
    "        \n",
    "        for k, v in d.items():\n",
    "            if v == 1:\n",
    "                return s.index(k)\n",
    "        return -1\n",
    "            \n",
    "        \n",
    "        # # V3 works 2x faster than V2, but still slow\n",
    "        # # Need to go through all chars to find duplicates\n",
    "        # # Is it possible to keep track of first one? Or just loop through twice\n",
    "        # l = []\n",
    "        # for i in range(len(s)):\n",
    "        #     if s[i] not in s[i+1:] and s[i] not in l:\n",
    "        #         return i\n",
    "        #     l.append(s[i])\n",
    "        # return -1\n",
    "\n",
    "#         # V2 Works, but way too slow\n",
    "#         # Keep a dict of visited characters\n",
    "#         # Keep index in the dict\n",
    "#         # Python 3, dict values are sorted by insertion rate\n",
    "        \n",
    "#         d = {}\n",
    "#         for i, c in enumerate(s):\n",
    "#             d[c] = d.get(c, []) + [i]\n",
    "        \n",
    "#         for k,v in d.items():\n",
    "#             if len(v) == 1:\n",
    "#                 return d[k][0]\n",
    "#         return -1\n",
    "        \n",
    "        \n",
    "#          # V1\n",
    "#         # Maybe two passes, first time to figure out non-repeating chars\n",
    "#         # Second pass to find the index\n",
    "#         d = dict()\n",
    "#         for c in s:\n",
    "#             d[c] = d.get(c, 0)+1\n",
    "        \n",
    "#         for i, c in enumerate(s):\n",
    "#             if d[c] == 1:\n",
    "#                 return i\n",
    "#         return -1\n",
    "        "
   ]
  }
 ],
 "metadata": {
  "kernelspec": {
   "display_name": "Python 3 (ipykernel)",
   "language": "python",
   "name": "python3"
  },
  "language_info": {
   "codemirror_mode": {
    "name": "ipython",
    "version": 3
   },
   "file_extension": ".py",
   "mimetype": "text/x-python",
   "name": "python",
   "nbconvert_exporter": "python",
   "pygments_lexer": "ipython3",
   "version": "3.8.11"
  }
 },
 "nbformat": 4,
 "nbformat_minor": 5
}
