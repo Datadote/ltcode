{
 "cells": [
  {
   "cell_type": "code",
   "execution_count": null,
   "id": "62298083",
   "metadata": {},
   "outputs": [],
   "source": [
    "class Solution:\n",
    "    def nearestValidPoint(self, x: int, y: int, points: List[List[int]]) -> int:\n",
    "        # Find valid points, valid point is where points share A or B\n",
    "        \n",
    "        # Find closest point with manhattan distance (abs(x1-x2) + abs(y1-y2))\n",
    "        # If multiple points, then return point with smallest index. Calculate in reverse\n",
    "        \n",
    "        # For loop through all points, if lowest recorded, record index\n",
    "        # return index at end\n",
    "        \n",
    "        points = points[::-1]\n",
    "        min_distance = 10e9\n",
    "        index = -1\n",
    "        \n",
    "        for i, p in enumerate(points):\n",
    "            if x==p[0] or y==p[1]: \n",
    "                distance = abs(x-p[0]) + abs(y-p[1])\n",
    "                if distance <= min_distance:\n",
    "                    # print(i, p)\n",
    "                    min_distance = distance\n",
    "                    index = i\n",
    "        if index > -1:\n",
    "            return len(points)-index-1\n",
    "        else:\n",
    "            return index"
   ]
  }
 ],
 "metadata": {
  "kernelspec": {
   "display_name": "Python 3 (ipykernel)",
   "language": "python",
   "name": "python3"
  },
  "language_info": {
   "codemirror_mode": {
    "name": "ipython",
    "version": 3
   },
   "file_extension": ".py",
   "mimetype": "text/x-python",
   "name": "python",
   "nbconvert_exporter": "python",
   "pygments_lexer": "ipython3",
   "version": "3.8.11"
  }
 },
 "nbformat": 4,
 "nbformat_minor": 5
}
