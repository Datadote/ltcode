{
 "cells": [
  {
   "cell_type": "code",
   "execution_count": null,
   "id": "a9cfc50e",
   "metadata": {},
   "outputs": [],
   "source": [
    "class Solution:\n",
    "    def nextGreaterElement(self, nums1: List[int], nums2: List[int]) -> List[int]:\n",
    "        # Find index j where nums1[i] == nums2[j],\n",
    "        # Then find next greater element of num2, after index j\n",
    "        \n",
    "        l = []\n",
    "        for n1 in nums1:\n",
    "            j = nums2.index(n1)\n",
    "            num_append = -1\n",
    "            for i, n2 in enumerate(nums2[j:]):\n",
    "                if n2 > n1:\n",
    "                    num_append = n2\n",
    "                    break\n",
    "            l.append(num_append)\n",
    "        return l"
   ]
  }
 ],
 "metadata": {
  "kernelspec": {
   "display_name": "Python 3 (ipykernel)",
   "language": "python",
   "name": "python3"
  },
  "language_info": {
   "codemirror_mode": {
    "name": "ipython",
    "version": 3
   },
   "file_extension": ".py",
   "mimetype": "text/x-python",
   "name": "python",
   "nbconvert_exporter": "python",
   "pygments_lexer": "ipython3",
   "version": "3.8.11"
  }
 },
 "nbformat": 4,
 "nbformat_minor": 5
}
