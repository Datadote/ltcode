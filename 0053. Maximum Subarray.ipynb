{
 "cells": [
  {
   "cell_type": "code",
   "execution_count": null,
   "id": "cde643c8",
   "metadata": {},
   "outputs": [],
   "source": [
    "# 1) Combine similar sign numbers\n",
    "# 2) Start checking from right to left\n",
    "# - If right less than left, then skip to next positive num\n",
    "# - Once a large number found, then linearly check left sums"
   ]
  },
  {
   "cell_type": "code",
   "execution_count": 240,
   "id": "eb3c674b",
   "metadata": {},
   "outputs": [],
   "source": [
    "def clean_list(nums):\n",
    "    l = []\n",
    "    summ = nums[0]\n",
    "    sign = nums[0] > 0\n",
    "    for i in range(1, len(nums)):\n",
    "        cur_sign = nums[i] > 0\n",
    "        if sign == cur_sign:\n",
    "            summ += nums[i]\n",
    "        else:\n",
    "            l.append(summ)\n",
    "            summ = nums[i]\n",
    "            sign = cur_sign\n",
    "    if summ > 0:\n",
    "        l.append(summ) # Add last element if positive\n",
    "    return l[::-1] # flip left-right"
   ]
  },
  {
   "cell_type": "code",
   "execution_count": 243,
   "id": "44d16c57",
   "metadata": {},
   "outputs": [
    {
     "data": {
      "text/plain": [
       "[3, -9, 3, -1, 4, -3, 1, -2]"
      ]
     },
     "execution_count": 243,
     "metadata": {},
     "output_type": "execute_result"
    }
   ],
   "source": [
    "inp = [-2,1,-3,4,-1,2,1,-5,-4, 3] # does not work\n",
    "# inp = [5,4,-1,7,8]\n",
    "# inp = [-2,1,-3,4,-1,2,1,-5,4]\n",
    "l = clean_list(inp)\n",
    "l"
   ]
  },
  {
   "cell_type": "code",
   "execution_count": 202,
   "id": "aa268efe",
   "metadata": {},
   "outputs": [],
   "source": [
    "# Add all numbers until positive number is less than next neg number\n",
    "# Find all substrings where this trend happens, add, and pick largest\n",
    "# If last positive idx is greater than the previous neg num, add else ignore it"
   ]
  },
  {
   "cell_type": "code",
   "execution_count": null,
   "id": "143605fd",
   "metadata": {},
   "outputs": [],
   "source": []
  },
  {
   "cell_type": "code",
   "execution_count": 250,
   "id": "b6668241",
   "metadata": {},
   "outputs": [
    {
     "name": "stdout",
     "output_type": "stream",
     "text": [
      "6 6\n",
      "23 23\n",
      "6 6\n"
     ]
    }
   ],
   "source": [
    "# Just linearly append max_sums to a list, and pick the largest\n",
    "def find_sum(l):\n",
    "    top_sum = l[0]\n",
    "    cur_sum = l[0]\n",
    "    start = False\n",
    "    idx1 = 0\n",
    "    idx2 = 0\n",
    "    for i in range(0,len(l)-1, 2):\n",
    "#         print(i)\n",
    "        if (l[i] + l[i+1]) > 0:\n",
    "            if not start:\n",
    "                start = True\n",
    "                idx1 = i\n",
    "        else:\n",
    "            idx2 = i-1\n",
    "            cur_sum = sum(l[idx1:idx2])\n",
    "#             print(idx1, idx2, top_sum, cur_sum)\n",
    "            if cur_sum > top_sum:\n",
    "                \n",
    "                start = False\n",
    "                idx1 = i\n",
    "#                 idx2 = i\n",
    "                top_sum = cur_sum\n",
    "#     print(idx1, idx2)\n",
    "    if (len(l) == 3) and l[-1] > 0:\n",
    "        top_sum = sum(l)\n",
    "    return top_sum\n",
    "\n",
    "print(find_sum(clean_list([-2,1,-3,4,-1,2,1,-5,-4, 3])), 6)\n",
    "# print(clean_list([5,4,-1,7,8]))\n",
    "print(find_sum(clean_list([5,4,-1,7,8])), 23)\n",
    "print(find_sum(clean_list([-2,1,-3,4,-1,2,1,-5,4])), 6)"
   ]
  },
  {
   "cell_type": "code",
   "execution_count": 213,
   "id": "af09c655",
   "metadata": {},
   "outputs": [
    {
     "ename": "UnboundLocalError",
     "evalue": "local variable 'idx1' referenced before assignment",
     "output_type": "error",
     "traceback": [
      "\u001b[1;31m---------------------------------------------------------------------------\u001b[0m",
      "\u001b[1;31mUnboundLocalError\u001b[0m                         Traceback (most recent call last)",
      "\u001b[1;32m~\\AppData\\Local\\Temp/ipykernel_17776/406970656.py\u001b[0m in \u001b[0;36m<module>\u001b[1;34m\u001b[0m\n\u001b[0;32m      6\u001b[0m \u001b[1;33m\u001b[0m\u001b[0m\n\u001b[0;32m      7\u001b[0m \u001b[0ma\u001b[0m \u001b[1;33m=\u001b[0m \u001b[0mUtilsTestCase\u001b[0m\u001b[1;33m(\u001b[0m\u001b[1;33m)\u001b[0m\u001b[1;33m\u001b[0m\u001b[1;33m\u001b[0m\u001b[0m\n\u001b[1;32m----> 8\u001b[1;33m \u001b[0ma\u001b[0m\u001b[1;33m.\u001b[0m\u001b[0mtest_failing\u001b[0m\u001b[1;33m(\u001b[0m\u001b[0mfind_sum\u001b[0m\u001b[1;33m(\u001b[0m\u001b[0mclean_list\u001b[0m\u001b[1;33m(\u001b[0m\u001b[1;33m[\u001b[0m\u001b[1;33m-\u001b[0m\u001b[1;36m2\u001b[0m\u001b[1;33m,\u001b[0m\u001b[1;36m1\u001b[0m\u001b[1;33m,\u001b[0m\u001b[1;33m-\u001b[0m\u001b[1;36m3\u001b[0m\u001b[1;33m,\u001b[0m\u001b[1;36m4\u001b[0m\u001b[1;33m,\u001b[0m\u001b[1;33m-\u001b[0m\u001b[1;36m1\u001b[0m\u001b[1;33m,\u001b[0m\u001b[1;36m2\u001b[0m\u001b[1;33m,\u001b[0m\u001b[1;36m1\u001b[0m\u001b[1;33m,\u001b[0m\u001b[1;33m-\u001b[0m\u001b[1;36m5\u001b[0m\u001b[1;33m,\u001b[0m\u001b[1;33m-\u001b[0m\u001b[1;36m4\u001b[0m\u001b[1;33m,\u001b[0m \u001b[1;36m3\u001b[0m\u001b[1;33m]\u001b[0m\u001b[1;33m)\u001b[0m\u001b[1;33m)\u001b[0m\u001b[1;33m,\u001b[0m \u001b[1;36m6\u001b[0m\u001b[1;33m)\u001b[0m\u001b[1;33m\u001b[0m\u001b[1;33m\u001b[0m\u001b[0m\n\u001b[0m\u001b[0;32m      9\u001b[0m \u001b[0ma\u001b[0m\u001b[1;33m.\u001b[0m\u001b[0mtest_failing\u001b[0m\u001b[1;33m(\u001b[0m\u001b[0mfind_sum\u001b[0m\u001b[1;33m(\u001b[0m\u001b[0mclean_list\u001b[0m\u001b[1;33m(\u001b[0m\u001b[1;33m[\u001b[0m\u001b[1;36m5\u001b[0m\u001b[1;33m,\u001b[0m\u001b[1;36m4\u001b[0m\u001b[1;33m,\u001b[0m\u001b[1;33m-\u001b[0m\u001b[1;36m1\u001b[0m\u001b[1;33m,\u001b[0m\u001b[1;36m7\u001b[0m\u001b[1;33m,\u001b[0m\u001b[1;36m8\u001b[0m\u001b[1;33m]\u001b[0m\u001b[1;33m)\u001b[0m\u001b[1;33m)\u001b[0m\u001b[1;33m,\u001b[0m \u001b[1;36m23\u001b[0m\u001b[1;33m)\u001b[0m\u001b[1;33m\u001b[0m\u001b[1;33m\u001b[0m\u001b[0m\n",
      "\u001b[1;32m~\\AppData\\Local\\Temp/ipykernel_17776/1971079519.py\u001b[0m in \u001b[0;36mfind_sum\u001b[1;34m(l)\u001b[0m\n\u001b[0;32m     12\u001b[0m         \u001b[1;32melse\u001b[0m\u001b[1;33m:\u001b[0m\u001b[1;33m\u001b[0m\u001b[1;33m\u001b[0m\u001b[0m\n\u001b[0;32m     13\u001b[0m             \u001b[0midx2\u001b[0m \u001b[1;33m=\u001b[0m \u001b[0mi\u001b[0m\u001b[1;33m\u001b[0m\u001b[1;33m\u001b[0m\u001b[0m\n\u001b[1;32m---> 14\u001b[1;33m             \u001b[0mcur_sum\u001b[0m \u001b[1;33m=\u001b[0m \u001b[0msum\u001b[0m\u001b[1;33m(\u001b[0m\u001b[0ml\u001b[0m\u001b[1;33m[\u001b[0m\u001b[0midx1\u001b[0m\u001b[1;33m:\u001b[0m\u001b[0midx2\u001b[0m\u001b[1;33m]\u001b[0m\u001b[1;33m)\u001b[0m\u001b[1;33m\u001b[0m\u001b[1;33m\u001b[0m\u001b[0m\n\u001b[0m\u001b[0;32m     15\u001b[0m \u001b[1;31m#             print(idx1, idx2, top_sum, cur_sum)\u001b[0m\u001b[1;33m\u001b[0m\u001b[1;33m\u001b[0m\u001b[1;33m\u001b[0m\u001b[0m\n\u001b[0;32m     16\u001b[0m             \u001b[1;32mif\u001b[0m \u001b[0mcur_sum\u001b[0m \u001b[1;33m>\u001b[0m \u001b[0mtop_sum\u001b[0m\u001b[1;33m:\u001b[0m\u001b[1;33m\u001b[0m\u001b[1;33m\u001b[0m\u001b[0m\n",
      "\u001b[1;31mUnboundLocalError\u001b[0m: local variable 'idx1' referenced before assignment"
     ]
    }
   ],
   "source": [
    "from unittest import TestCase\n",
    "\n",
    "class UtilsTestCase(TestCase):\n",
    "    def test_failing(self, a, b):\n",
    "        self.assertEqual(a, b, msg='Not Equal')\n",
    "\n",
    "a = UtilsTestCase()\n",
    "a.test_failing(find_sum(clean_list([-2,1,-3,4,-1,2,1,-5,-4, 3])), 6)\n",
    "a.test_failing(find_sum(clean_list([5,4,-1,7,8])), 23)"
   ]
  },
  {
   "cell_type": "code",
   "execution_count": 85,
   "id": "8b44ac9a",
   "metadata": {},
   "outputs": [
    {
     "ename": "SyntaxError",
     "evalue": "invalid syntax (Temp/ipykernel_17776/1943086630.py, line 10)",
     "output_type": "error",
     "traceback": [
      "\u001b[1;36m  File \u001b[1;32m\"C:\\Users\\Daniel\\AppData\\Local\\Temp/ipykernel_17776/1943086630.py\"\u001b[1;36m, line \u001b[1;32m10\u001b[0m\n\u001b[1;33m    top_sum =\u001b[0m\n\u001b[1;37m             ^\u001b[0m\n\u001b[1;31mSyntaxError\u001b[0m\u001b[1;31m:\u001b[0m invalid syntax\n"
     ]
    }
   ],
   "source": [
    "# Just linearly append max_sums to a list, and pick the largest\n",
    "\n",
    "top_sum = l[0]\n",
    "cur_sum = l[0]\n",
    "for i in range(1,len(l)-1, 2):\n",
    "    if l[i] + l[i+1] > 0:\n",
    "        cur_sum += (l[i] + l[i+1])\n",
    "        continue\n",
    "    else:\n",
    "        top_sum =\n",
    "        idx = i\n",
    "top_sum = sum(l[:idx])\n",
    "top_sum"
   ]
  },
  {
   "cell_type": "code",
   "execution_count": null,
   "id": "dceb3917",
   "metadata": {},
   "outputs": [],
   "source": []
  },
  {
   "cell_type": "code",
   "execution_count": null,
   "id": "f246c8f0",
   "metadata": {},
   "outputs": [],
   "source": []
  },
  {
   "cell_type": "code",
   "execution_count": null,
   "id": "275213fb",
   "metadata": {},
   "outputs": [],
   "source": [
    "if "
   ]
  },
  {
   "cell_type": "code",
   "execution_count": null,
   "id": "e68df64e",
   "metadata": {},
   "outputs": [],
   "source": [
    "# Want positive sum\n",
    "def find_sum(l):\n",
    "    top_sum = l[0]\n",
    "    summ = l[0] # summ is always positive\n",
    "    for i in range(1,len(l)):\n",
    "        if (l[i]+summ) > 0:\n",
    "            summ += l[i]\n",
    "            summ += \n",
    "            "
   ]
  },
  {
   "cell_type": "code",
   "execution_count": null,
   "id": "22527ff6",
   "metadata": {},
   "outputs": [],
   "source": []
  },
  {
   "cell_type": "code",
   "execution_count": null,
   "id": "e1269cca",
   "metadata": {},
   "outputs": [],
   "source": []
  }
 ],
 "metadata": {
  "kernelspec": {
   "display_name": "Python 3 (ipykernel)",
   "language": "python",
   "name": "python3"
  },
  "language_info": {
   "codemirror_mode": {
    "name": "ipython",
    "version": 3
   },
   "file_extension": ".py",
   "mimetype": "text/x-python",
   "name": "python",
   "nbconvert_exporter": "python",
   "pygments_lexer": "ipython3",
   "version": "3.8.11"
  }
 },
 "nbformat": 4,
 "nbformat_minor": 5
}
