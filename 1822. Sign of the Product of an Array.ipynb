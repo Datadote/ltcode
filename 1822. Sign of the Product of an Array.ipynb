{
 "cells": [
  {
   "cell_type": "code",
   "execution_count": null,
   "id": "46a64d3b",
   "metadata": {},
   "outputs": [],
   "source": [
    "class Solution:\n",
    "    def arraySign(self, nums: List[int]) -> int:\n",
    "        num0 = nums[0]\n",
    "        for n in nums[1:]:\n",
    "            num0 *= n\n",
    "        \n",
    "        if num0 > 0:\n",
    "            return 1\n",
    "        elif num0 < 0:\n",
    "            return -1\n",
    "        else:\n",
    "            return 0"
   ]
  }
 ],
 "metadata": {
  "kernelspec": {
   "display_name": "Python 3 (ipykernel)",
   "language": "python",
   "name": "python3"
  },
  "language_info": {
   "codemirror_mode": {
    "name": "ipython",
    "version": 3
   },
   "file_extension": ".py",
   "mimetype": "text/x-python",
   "name": "python",
   "nbconvert_exporter": "python",
   "pygments_lexer": "ipython3",
   "version": "3.8.11"
  }
 },
 "nbformat": 4,
 "nbformat_minor": 5
}
