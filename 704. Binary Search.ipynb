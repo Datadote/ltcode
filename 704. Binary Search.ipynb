{
 "cells": [
  {
   "cell_type": "code",
   "execution_count": null,
   "id": "377d03c8",
   "metadata": {},
   "outputs": [],
   "source": [
    "class Solution:\n",
    "    def search(self, nums: List[int], target: int) -> int:\n",
    "        # Keep track of left and right\n",
    "        # Find middle\n",
    "        # If target not found, update left and right search space\n",
    "        # If right becomes less than left, exit and return -1\n",
    "\n",
    "        # [0, 1, 2, 3, 4, 5]\n",
    "        # mid = (5+0)//2 = 2\n",
    "        # num = [2]\n",
    "        left, right = 0, len(nums)-1\n",
    "\n",
    "        while left <= right:\n",
    "            mid = (left + right)//2\n",
    "            num = nums[mid]\n",
    "            print(left, right, mid, num)\n",
    "            if num == target:\n",
    "                return mid\n",
    "            elif num < target:\n",
    "                left = mid+1\n",
    "            else:\n",
    "                right = mid-1\n",
    "        return -1 "
   ]
  }
 ],
 "metadata": {
  "kernelspec": {
   "display_name": "Python 3 (ipykernel)",
   "language": "python",
   "name": "python3"
  },
  "language_info": {
   "codemirror_mode": {
    "name": "ipython",
    "version": 3
   },
   "file_extension": ".py",
   "mimetype": "text/x-python",
   "name": "python",
   "nbconvert_exporter": "python",
   "pygments_lexer": "ipython3",
   "version": "3.8.11"
  }
 },
 "nbformat": 4,
 "nbformat_minor": 5
}
