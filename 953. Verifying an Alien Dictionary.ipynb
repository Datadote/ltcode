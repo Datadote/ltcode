{
 "cells": [
  {
   "cell_type": "code",
   "execution_count": null,
   "id": "066a88b8",
   "metadata": {},
   "outputs": [],
   "source": [
    "class Solution:\n",
    "    def isAlienSorted(self, words: List[str], order: str) -> bool:\n",
    "        # Compare two words at a time, account for for unequal lengths\n",
    "        \n",
    "        def compare(w1, w2):\n",
    "            \"\"\"\n",
    "            Returns true if w1 < w2 for each char\n",
    "            \"\"\"\n",
    "            for i in range(len(w1)):\n",
    "                try: # in case unequal lengths\n",
    "                    if d[w1[i]] < d[w2[i]]:\n",
    "                        return True\n",
    "                    elif d[w1[i]] == d[w2[i]]:\n",
    "                        pass\n",
    "                    else:\n",
    "                        return False\n",
    "                except:\n",
    "                    return False\n",
    "            return True\n",
    "        \n",
    "        d = {c:i for i, c in enumerate(order)}\n",
    "        # print(compare(words[0], words[1]))\n",
    "        \n",
    "        for i in range(len(words)-1):\n",
    "            if not compare(words[i], words[i+1]):\n",
    "                return False\n",
    "        return True\n",
    "    \n",
    "# [\"hello\",\"leetcode\"]\n",
    "# \"hlabcdefgijkmnopqrstuvwxyz\"\n",
    "    \n",
    "# [\"aello\",\"baetcode\", \"helllllo\"]\n",
    "# \"hlabcdefgijkmnopqrstuvwxyz\""
   ]
  }
 ],
 "metadata": {
  "kernelspec": {
   "display_name": "Python 3 (ipykernel)",
   "language": "python",
   "name": "python3"
  },
  "language_info": {
   "codemirror_mode": {
    "name": "ipython",
    "version": 3
   },
   "file_extension": ".py",
   "mimetype": "text/x-python",
   "name": "python",
   "nbconvert_exporter": "python",
   "pygments_lexer": "ipython3",
   "version": "3.8.11"
  }
 },
 "nbformat": 4,
 "nbformat_minor": 5
}
