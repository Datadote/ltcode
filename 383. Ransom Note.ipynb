{
 "cells": [
  {
   "cell_type": "code",
   "execution_count": null,
   "id": "a3353b27",
   "metadata": {},
   "outputs": [],
   "source": [
    "class Solution:\n",
    "    def canConstruct(self, ransomNote: str, magazine: str) -> bool:\n",
    "        # V2 is faster and simpler than a dictionary and counting characters\n",
    "        # Could use counter and compare values\n",
    "        # Could sort and just compare letters -> probably easier\n",
    "        \n",
    "        l1 = list(ransomNote)\n",
    "        l2 = list(magazine)\n",
    "        for c in l1:\n",
    "            try:\n",
    "                l2.remove(c)\n",
    "            except:\n",
    "                return False\n",
    "        return True\n",
    "        \n",
    "\n",
    "#         # V1\n",
    "#         # Count characters in magazine in dict\n",
    "#         # Count characters in random in dct\n",
    "#         # If for each key in random, it is <= magazine, return T else F\n",
    "#         dm, dr = {}, {}\n",
    "        \n",
    "#         for c in magazine:\n",
    "#             dm[c] = dm.get(c,0)+1\n",
    "#         for c in ransomNote:\n",
    "#             dr[c] = dr.get(c,0)+1\n",
    "            \n",
    "#         for k,v in dr.items():\n",
    "#             try:\n",
    "#                 if v <= dm.get(k, 0):\n",
    "#                     pass\n",
    "#                 else:\n",
    "#                     return False\n",
    "#             except:\n",
    "#                 return False\n",
    "#         return True"
   ]
  }
 ],
 "metadata": {
  "kernelspec": {
   "display_name": "Python 3 (ipykernel)",
   "language": "python",
   "name": "python3"
  },
  "language_info": {
   "codemirror_mode": {
    "name": "ipython",
    "version": 3
   },
   "file_extension": ".py",
   "mimetype": "text/x-python",
   "name": "python",
   "nbconvert_exporter": "python",
   "pygments_lexer": "ipython3",
   "version": "3.8.11"
  }
 },
 "nbformat": 4,
 "nbformat_minor": 5
}
