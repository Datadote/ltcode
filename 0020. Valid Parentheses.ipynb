{
 "cells": [
  {
   "cell_type": "code",
   "execution_count": null,
   "id": "1a9903cc",
   "metadata": {},
   "outputs": [],
   "source": [
    "# 10-7-22. Slightly faster\n",
    "def isValid(self, s: str) -> bool:\n",
    "    # 1) Make a list and append left brackets into it\n",
    "    # 2) If a right bracket is hit, pop the last element of the stack\n",
    "    # and check that the dictionary value of that token is correct\n",
    "    # 3) If we reach end of s, and stack is not empty, then return false\n",
    "    stack = []\n",
    "    d = {')': '(', '}': '{', ']':'['}\n",
    "    for c in s:\n",
    "        if c not in d:\n",
    "            stack.append(c) # if not a right bracket, then put on stack\n",
    "        else:\n",
    "            try:\n",
    "                if d[c] == stack.pop():\n",
    "                    pass\n",
    "                else:\n",
    "                    return False\n",
    "            except:\n",
    "                return False\n",
    "    if len(stack) > 0:\n",
    "        return False\n",
    "    return True"
   ]
  },
  {
   "cell_type": "code",
   "execution_count": 17,
   "id": "79218250",
   "metadata": {},
   "outputs": [],
   "source": [
    "def isValid(s):\n",
    "    l = []\n",
    "    right_brackets = (')', ']', '}')\n",
    "    d_check = {'(': ')', '[': ']', '{': '}'}\n",
    "    if len(s) == 1:\n",
    "        return False   \n",
    "\n",
    "    for c in s:\n",
    "        if c not in right_brackets:\n",
    "            l.append(c)\n",
    "        else:\n",
    "            try:\n",
    "                if c != d_check[l.pop()]:\n",
    "                    return False\n",
    "            except:\n",
    "                return False\n",
    "\n",
    "    if len(l) != 0:\n",
    "        return False        \n",
    "    return True"
   ]
  }
 ],
 "metadata": {
  "kernelspec": {
   "display_name": "Python 3 (ipykernel)",
   "language": "python",
   "name": "python3"
  },
  "language_info": {
   "codemirror_mode": {
    "name": "ipython",
    "version": 3
   },
   "file_extension": ".py",
   "mimetype": "text/x-python",
   "name": "python",
   "nbconvert_exporter": "python",
   "pygments_lexer": "ipython3",
   "version": "3.8.11"
  }
 },
 "nbformat": 4,
 "nbformat_minor": 5
}
