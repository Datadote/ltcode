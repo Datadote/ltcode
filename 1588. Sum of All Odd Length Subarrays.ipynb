{
 "cells": [
  {
   "cell_type": "code",
   "execution_count": null,
   "id": "776599d5",
   "metadata": {},
   "outputs": [],
   "source": [
    "class Solution:\n",
    "    \n",
    "    def sumOddLengthSubarrays(self, arr: List[int]) -> int:\n",
    "        # Find all odd division, and loop through with range and add to summ\n",
    "        summ = 0\n",
    "        for i in range(len(arr)):\n",
    "            for j in range(i+1, len(arr)+1):\n",
    "                # print(i, j)\n",
    "                # print(arr[i:j])\n",
    "                if len(arr[i:j])%2 == 1:\n",
    "                    summ += sum(arr[i:j])\n",
    "        return(summ)"
   ]
  }
 ],
 "metadata": {
  "kernelspec": {
   "display_name": "Python 3 (ipykernel)",
   "language": "python",
   "name": "python3"
  },
  "language_info": {
   "codemirror_mode": {
    "name": "ipython",
    "version": 3
   },
   "file_extension": ".py",
   "mimetype": "text/x-python",
   "name": "python",
   "nbconvert_exporter": "python",
   "pygments_lexer": "ipython3",
   "version": "3.8.11"
  }
 },
 "nbformat": 4,
 "nbformat_minor": 5
}
