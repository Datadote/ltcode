{
 "cells": [
  {
   "cell_type": "code",
   "execution_count": null,
   "id": "cde643c8",
   "metadata": {},
   "outputs": [],
   "source": [
    "\"\"\"\n",
    "Use Kadane's Algorithm. O(n) vs Brute Force O(n^2)\n",
    "\"\"\"\n",
    "\n",
    "# 1) Combine similar sign numbers\n",
    "# 2) Start checking from right to left\n",
    "# - If right less than left, then skip to next positive num\n",
    "# - Once a large number found, then linearly check left sums"
   ]
  },
  {
   "cell_type": "code",
   "execution_count": null,
   "id": "7b3f33d7",
   "metadata": {},
   "outputs": [],
   "source": [
    "# Kadane's algorithm\n",
    "def maxSubArray(self, nums: List[int]) -> int:\n",
    "    # Keep a subarray where we keep adding nums to\n",
    "    # If subarray goes negative. We drop the subarray\n",
    "    # If subarray max increases, record in a maxSum\n",
    "    # Iterate through list of nums\n",
    "\n",
    "    # Initializing with nums[0] takes care of 1 element cases\n",
    "    bestSum = nums[0]\n",
    "    currentSum = nums[0]\n",
    "\n",
    "    for n in nums[1:]: \n",
    "        currentSum = max(n, currentSum+n)\n",
    "        bestSum = max(bestSum, currentSum)\n",
    "    return bestSum"
   ]
  },
  {
   "cell_type": "code",
   "execution_count": null,
   "id": "e1269cca",
   "metadata": {},
   "outputs": [],
   "source": [
    "# V1 Brute force, times out. Also don't need arrays. Just\n",
    "# running sums\n",
    "def maxSubArray(self, nums: List[int]) -> int:\n",
    "    maxSum = -100000\n",
    "    curArray = []\n",
    "\n",
    "    for n in nums:\n",
    "        curArray.append(n)\n",
    "        sum_array = sum(curArray)\n",
    "\n",
    "        if sum_array < 0:\n",
    "            curArray = []\n",
    "        if sum_array > maxSum:\n",
    "            maxSum = sum_array\n",
    "    return maxSum"
   ]
  }
 ],
 "metadata": {
  "kernelspec": {
   "display_name": "Python 3 (ipykernel)",
   "language": "python",
   "name": "python3"
  },
  "language_info": {
   "codemirror_mode": {
    "name": "ipython",
    "version": 3
   },
   "file_extension": ".py",
   "mimetype": "text/x-python",
   "name": "python",
   "nbconvert_exporter": "python",
   "pygments_lexer": "ipython3",
   "version": "3.8.11"
  }
 },
 "nbformat": 4,
 "nbformat_minor": 5
}
