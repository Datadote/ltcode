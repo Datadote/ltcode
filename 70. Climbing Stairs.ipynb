{
 "cells": [
  {
   "cell_type": "code",
   "execution_count": null,
   "id": "e749008d",
   "metadata": {},
   "outputs": [],
   "source": [
    "class Solution:\n",
    "    d = {1:1, 2:2}\n",
    "    def climbStairs(self, n: int) -> int:\n",
    "        # n=1, 1, 1\n",
    "        # n=2, 2, 11, 2\n",
    "        # n=3, 3, 111, 12, 21\n",
    "        # n=4, 5, 1111, 112, 121, 211, 22\n",
    "        # n=5, 8, 11111, 1112, 1121, 1211, 2111, 221, 212, 122\n",
    "        if n in self.d:\n",
    "            return self.d[n]\n",
    "        else:\n",
    "            result = self.climbStairs(n-2) + self.climbStairs(n-1)\n",
    "            self.d[n] = result\n",
    "            return result"
   ]
  }
 ],
 "metadata": {
  "kernelspec": {
   "display_name": "Python 3 (ipykernel)",
   "language": "python",
   "name": "python3"
  },
  "language_info": {
   "codemirror_mode": {
    "name": "ipython",
    "version": 3
   },
   "file_extension": ".py",
   "mimetype": "text/x-python",
   "name": "python",
   "nbconvert_exporter": "python",
   "pygments_lexer": "ipython3",
   "version": "3.8.11"
  }
 },
 "nbformat": 4,
 "nbformat_minor": 5
}
