{
 "cells": [
  {
   "cell_type": "code",
   "execution_count": null,
   "id": "42f8c30f",
   "metadata": {},
   "outputs": [],
   "source": [
    "class Solution:\n",
    "    def firstUniqChar(self, s: str) -> int:\n",
    "        # Maybe two passes, first time to figure out non-repeating chars\n",
    "        # Second pass to find the index\n",
    "        d = dict()\n",
    "        for c in s:\n",
    "            d[c] = d.get(c, 0)+1\n",
    "        \n",
    "        for i, c in enumerate(s):\n",
    "            if d[c] == 1:\n",
    "                return i\n",
    "        return -1"
   ]
  }
 ],
 "metadata": {
  "kernelspec": {
   "display_name": "Python 3 (ipykernel)",
   "language": "python",
   "name": "python3"
  },
  "language_info": {
   "codemirror_mode": {
    "name": "ipython",
    "version": 3
   },
   "file_extension": ".py",
   "mimetype": "text/x-python",
   "name": "python",
   "nbconvert_exporter": "python",
   "pygments_lexer": "ipython3",
   "version": "3.8.11"
  }
 },
 "nbformat": 4,
 "nbformat_minor": 5
}
